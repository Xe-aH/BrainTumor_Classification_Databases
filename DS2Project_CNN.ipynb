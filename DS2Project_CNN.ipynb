{
  "cells": [
    {
      "cell_type": "code",
      "execution_count": null,
      "metadata": {
        "id": "7PmJ0E8Q8Ln6"
      },
      "outputs": [],
      "source": [
        "import torch\n",
        "import torchvision\n",
        "from torchvision import transforms, datasets\n",
        "import os\n",
        "import matplotlib.pyplot as plt\n",
        "# import tensorflow as tf\n",
        "# import pathlib\n",
        "#import tensorflow as tf\n",
        "import numpy as np\n",
        "import torch.nn as nn\n",
        "import torch.nn.functional as F\n",
        "\n",
        "from sklearn.metrics import confusion_matrix, ConfusionMatrixDisplay, f1_score, log_loss\n",
        "\n",
        "# from tensorflow.keras.preprocessing.image import ImageDataGenerator, load_img, img_to_array\n",
        "# from tensorflow.keras import Sequential\n",
        "# from tensorflow.keras.layers import Conv2D, MaxPooling2D, Dropout, Flatten, Dense\n",
        "\n",
        "import time\n"
      ]
    },
    {
      "cell_type": "code",
      "execution_count": null,
      "metadata": {
        "colab": {
          "base_uri": "https://localhost:8080/"
        },
        "id": "2Ok1ID9_LzMZ",
        "outputId": "43c3ce3d-7a70-4bac-e66f-3f250616c7ef"
      },
      "outputs": [
        {
          "output_type": "stream",
          "name": "stdout",
          "text": [
            "Mounted at /content/drive\n"
          ]
        }
      ],
      "source": [
        "from google.colab import drive\n",
        "drive.mount('/content/drive')"
      ]
    },
    {
      "cell_type": "code",
      "execution_count": null,
      "metadata": {
        "id": "Uy9N3Opy_XJF"
      },
      "outputs": [],
      "source": [
        "transform = transforms.Compose([\n",
        "    transforms.Resize((224, 224)),  # Resize images to a consistent size\n",
        "    transforms.ToTensor(),         # Convert images to tensors\n",
        "    transforms.Normalize((0.5, 0.5, 0.5), (0.5, 0.5, 0.5))  # Normalize pixel values\n",
        "])"
      ]
    },
    {
      "cell_type": "code",
      "execution_count": null,
      "metadata": {
        "id": "UomDxhY5_1fl"
      },
      "outputs": [],
      "source": [
        "data_dir = \"/content/drive/My Drive/UH/year4/Brain_MRI_Scans\"\n",
        "# image = plt.imread(\"/content/drive/My Drive/UH/year4/Brain_MRI_Scans/2/0.png\")\n",
        "# plt.imshow(image)\n",
        "dataset = datasets.ImageFolder(root=data_dir, transform=transform)"
      ]
    },
    {
      "cell_type": "code",
      "execution_count": null,
      "metadata": {
        "id": "c-hWyWNJYtnF"
      },
      "outputs": [],
      "source": []
    },
    {
      "cell_type": "code",
      "execution_count": null,
      "metadata": {
        "id": "JhUoWI4D_36n"
      },
      "outputs": [],
      "source": [
        "seed = 100\n",
        "torch.manual_seed(seed)\n",
        "np.random.seed(seed)"
      ]
    },
    {
      "cell_type": "code",
      "execution_count": null,
      "metadata": {
        "id": "2ZU8Jz-j_-So"
      },
      "outputs": [],
      "source": [
        "train_size = int(0.8 * len(dataset))  # 80% of the data for training\n",
        "test_size = len(dataset) - train_size  # Remaining 20% for testing\n",
        "\n",
        "train_dataset, test_dataset = torch.utils.data.random_split(dataset, [train_size, test_size])"
      ]
    },
    {
      "cell_type": "code",
      "execution_count": null,
      "metadata": {
        "colab": {
          "base_uri": "https://localhost:8080/"
        },
        "id": "feNWzE_6tBr3",
        "outputId": "690a85b6-05fd-43da-97a2-d2d61a16c575"
      },
      "outputs": [
        {
          "output_type": "execute_result",
          "data": {
            "text/plain": [
              "613"
            ]
          },
          "metadata": {},
          "execution_count": 7
        }
      ],
      "source": [
        "len(train_dataset)\n",
        "len(test_dataset)"
      ]
    },
    {
      "cell_type": "code",
      "execution_count": null,
      "metadata": {
        "colab": {
          "base_uri": "https://localhost:8080/"
        },
        "id": "F8LfwuKptEo8",
        "outputId": "68a50cdd-f4d2-49e9-dfb2-98366592268e"
      },
      "outputs": [
        {
          "output_type": "execute_result",
          "data": {
            "text/plain": [
              "tensor([[[-0.4667, -0.4667, -0.4667,  ..., -0.4667, -0.4667, -0.4667],\n",
              "         [-0.4667, -0.4667, -0.4667,  ..., -0.4667, -0.4667, -0.4667],\n",
              "         [-0.4667, -0.4667, -0.4667,  ..., -0.4667, -0.4667, -0.4667],\n",
              "         ...,\n",
              "         [-0.4667, -0.4667, -0.4667,  ..., -0.4667, -0.4667, -0.4667],\n",
              "         [-0.4667, -0.4667, -0.4667,  ..., -0.4667, -0.4667, -0.4667],\n",
              "         [-0.4667, -0.4667, -0.4667,  ..., -0.4667, -0.4667, -0.4667]],\n",
              "\n",
              "        [[-0.9922, -0.9922, -0.9922,  ..., -0.9922, -0.9922, -0.9922],\n",
              "         [-0.9922, -0.9922, -0.9922,  ..., -0.9922, -0.9922, -0.9922],\n",
              "         [-0.9922, -0.9922, -0.9922,  ..., -0.9922, -0.9922, -0.9922],\n",
              "         ...,\n",
              "         [-0.9922, -0.9922, -0.9922,  ..., -0.9922, -0.9922, -0.9922],\n",
              "         [-0.9922, -0.9922, -0.9922,  ..., -0.9922, -0.9922, -0.9922],\n",
              "         [-0.9922, -0.9922, -0.9922,  ..., -0.9922, -0.9922, -0.9922]],\n",
              "\n",
              "        [[-0.3412, -0.3412, -0.3412,  ..., -0.3412, -0.3412, -0.3412],\n",
              "         [-0.3412, -0.3412, -0.3412,  ..., -0.3412, -0.3412, -0.3412],\n",
              "         [-0.3412, -0.3412, -0.3412,  ..., -0.3412, -0.3412, -0.3412],\n",
              "         ...,\n",
              "         [-0.3412, -0.3412, -0.3412,  ..., -0.3412, -0.3412, -0.3412],\n",
              "         [-0.3412, -0.3412, -0.3412,  ..., -0.3412, -0.3412, -0.3412],\n",
              "         [-0.3412, -0.3412, -0.3412,  ..., -0.3412, -0.3412, -0.3412]]])"
            ]
          },
          "metadata": {},
          "execution_count": 8
        }
      ],
      "source": [
        "#shows tensor for one image.\n",
        "test_dataset[0][0]"
      ]
    },
    {
      "cell_type": "code",
      "execution_count": null,
      "metadata": {
        "colab": {
          "base_uri": "https://localhost:8080/"
        },
        "id": "W1gvrh_itGdT",
        "outputId": "91bacc7c-bca2-4543-ab06-9e1a44496807"
      },
      "outputs": [
        {
          "output_type": "execute_result",
          "data": {
            "text/plain": [
              "0"
            ]
          },
          "metadata": {},
          "execution_count": 9
        }
      ],
      "source": [
        "test_dataset[0][1]"
      ]
    },
    {
      "cell_type": "code",
      "execution_count": null,
      "metadata": {
        "colab": {
          "base_uri": "https://localhost:8080/"
        },
        "id": "ib_mMNajtJFm",
        "outputId": "8d43a71b-daee-4168-f1d9-0b0c07221b81"
      },
      "outputs": [
        {
          "output_type": "execute_result",
          "data": {
            "text/plain": [
              "['1', '2', '3']"
            ]
          },
          "metadata": {},
          "execution_count": 10
        }
      ],
      "source": [
        "dataset.classes"
      ]
    },
    {
      "cell_type": "code",
      "execution_count": null,
      "metadata": {
        "id": "q9hU4ck4qaa0",
        "colab": {
          "base_uri": "https://localhost:8080/"
        },
        "outputId": "68ea4d43-f288-4dd6-bd1f-15452718ee00"
      },
      "outputs": [
        {
          "output_type": "stream",
          "name": "stderr",
          "text": [
            "/usr/local/lib/python3.10/dist-packages/torch/utils/data/dataloader.py:557: UserWarning: This DataLoader will create 12 worker processes in total. Our suggested max number of worker in current system is 2, which is smaller than what this DataLoader is going to create. Please be aware that excessive worker creation might get DataLoader running slow or even freeze, lower the worker number to avoid potential slowness/freeze if necessary.\n",
            "  warnings.warn(_create_warning_msg(\n"
          ]
        }
      ],
      "source": [
        "batch_size = 64\n",
        "num_workers = 12\n",
        "\n",
        "train_loader = torch.utils.data.DataLoader(train_dataset, batch_size = batch_size, shuffle = True, num_workers = num_workers)\n",
        "test_loader = torch.utils.data.DataLoader(test_dataset, batch_size = batch_size, shuffle = True, num_workers = num_workers)"
      ]
    },
    {
      "cell_type": "code",
      "source": [],
      "metadata": {
        "id": "2WvORCf91yYw"
      },
      "execution_count": null,
      "outputs": []
    },
    {
      "cell_type": "code",
      "execution_count": null,
      "metadata": {
        "id": "xcCK6kfPtqJb"
      },
      "outputs": [],
      "source": [
        "class CNN(nn.Module):\n",
        "    def __init__(self):\n",
        "        super().__init__()\n",
        "        self.conv1 = nn.Conv2d(3, 6, 9, padding = 'same')\n",
        "        self.pool = nn.MaxPool2d(8, 8)\n",
        "        self.conv2 = nn.Conv2d(6, 16, 5)\n",
        "        self.fc1 = nn.Linear(16 * 9 * 1, 120)\n",
        "        self.fc2 = nn.Linear(120, 84)\n",
        "        self.fc3 = nn.Linear(84, 3)\n",
        "\n",
        "    def forward(self, x, activ = F.relu):\n",
        "        x = self.pool(activ(self.conv1(x)))\n",
        "        x = self.pool(activ(self.conv2(x)))\n",
        "        x = torch.flatten(x, 1) # flatten all dimensions except batch\n",
        "        x = activ(self.fc1(x))\n",
        "        x = activ(self.fc2(x))\n",
        "        x = self.fc3(x)\n",
        "        return x\n"
      ]
    },
    {
      "cell_type": "code",
      "execution_count": null,
      "metadata": {
        "id": "nX_c51IgXP4M"
      },
      "outputs": [],
      "source": [
        "def train(model, opt, data_loader, epochs=100, loss_func=nn.CrossEntropyLoss()):\n",
        "  correct = 0\n",
        "  total = 0\n",
        "  start = time.time()\n",
        "  for epoch in range(epochs):\n",
        "    for batch, (train, target) in enumerate(data_loader):\n",
        "      model.train()\n",
        "      target_pred = model(train)\n",
        "\n",
        "      predicted = torch.max(target_pred, 1)[1]\n",
        "      total += target.size(0)\n",
        "      correct += (predicted == target).sum().item()\n",
        "\n",
        "      opt.zero_grad()\n",
        "      loss = loss_func(target_pred, target)\n",
        "      loss.backward()\n",
        "      opt.step()\n",
        "      # if(batch+1)%10 == 0:\n",
        "      #   print(f\"Batch [{batch+1}/{len(data_loader)}] Loss: {loss.item()}\")\n",
        "    if epochs <= 10:\n",
        "      print(f\"Epoch [{epoch+1}/{epochs}] Loss: {loss.item()}\")\n",
        "    elif epochs <= 100:\n",
        "      if (epoch+1)%10 == 0:\n",
        "        print(f\"Epoch [{epoch+1}/{epochs}] Loss: {loss.item()}\")\n",
        "\n",
        "  accuracy = (100 * correct) / total\n",
        "  print(f'Accuracy on train set: {accuracy}%')\n",
        "  print(f'training time: {(time.time() - start)/60} minutes')\n",
        "  return model\n"
      ]
    },
    {
      "cell_type": "code",
      "execution_count": null,
      "metadata": {
        "id": "7whvcyJg_wom"
      },
      "outputs": [],
      "source": [
        "def test(model, data_loader, loss_func=nn.CrossEntropyLoss(), model_name = None, display = False):\n",
        "  correct = 0\n",
        "  total = 0\n",
        "  y_pred = []\n",
        "  y_true = []\n",
        "  all_probs = []\n",
        "  with torch.no_grad(): #doesn't update weights and biases\n",
        "    for batch, (train, target) in enumerate(data_loader):\n",
        "      target_pred = model(train)\n",
        "      predicted = torch.max(target_pred, 1)[1]\n",
        "\n",
        "      correct += (predicted == target).sum()\n",
        "      total += target.size(0)\n",
        "\n",
        "      y_pred.extend(predicted.tolist())\n",
        "      y_true.extend(target.tolist())\n",
        "      all_probs.extend(torch.nn.functional.softmax(target_pred, dim=1).cpu().numpy())\n",
        "\n",
        "\n",
        "      loss = loss_func(target_pred, target)\n",
        "\n",
        "  cm = confusion_matrix(y_true, y_pred)\n",
        "\n",
        "  accuracy = (100 * correct) / total\n",
        "  # print(f'Accuracy on test set: {accuracy}%')\n",
        "\n",
        "  f1 = f1_score(y_true, y_pred, average='weighted')\n",
        "  # print(f\"F1 score on test set: {f1}\")\n",
        "\n",
        "  lg_loss = log_loss(y_true, all_probs)\n",
        "  # print(f'Log Loss on test set: {lg_loss}')\n",
        "\n",
        "  if display == True:\n",
        "    print(f'Accuracy on test set: {accuracy}%')\n",
        "    print(f\"F1 score on test set: {f1}\")\n",
        "    print(f\"Log Loss on test set: {lg_loss}\")\n",
        "\n",
        "    disp = ConfusionMatrixDisplay(cm)\n",
        "    disp.plot()\n",
        "    if model_name:\n",
        "      plt.title(model_name)\n",
        "    plt.show()\n",
        "  return cm, accuracy, f1, lg_loss\n",
        "\n"
      ]
    },
    {
      "cell_type": "code",
      "execution_count": null,
      "metadata": {
        "id": "VyXAuO99knEx"
      },
      "outputs": [],
      "source": [
        "def modelSave(model, model_name):\n",
        "  torch.save(model, f'/content/drive/My Drive/Colab Notebooks/TrainedModels/CNNModels/{model_name}.pth')"
      ]
    },
    {
      "cell_type": "code",
      "source": [],
      "metadata": {
        "id": "9TnUERmFq4Ze"
      },
      "execution_count": null,
      "outputs": []
    },
    {
      "cell_type": "code",
      "execution_count": null,
      "metadata": {
        "id": "IXBDhCSYlaA9"
      },
      "outputs": [],
      "source": [
        "def modelLoad(model_name):\n",
        "  return torch.load(f'/content/drive/My Drive/Colab Notebooks/TrainedModels/CNNModels/{model_name}.pth')"
      ]
    },
    {
      "cell_type": "code",
      "execution_count": null,
      "metadata": {
        "id": "pk9RQDxXuCkI"
      },
      "outputs": [],
      "source": [
        "#Adam nadam sgd and rmsprop\n",
        "model_names = ['Adam_Model', 'NAdam_Model', 'SGD_Model', 'RMSprop_Model']"
      ]
    },
    {
      "cell_type": "code",
      "execution_count": null,
      "metadata": {
        "colab": {
          "base_uri": "https://localhost:8080/"
        },
        "id": "z1_ooiMDuVBn",
        "outputId": "4576708f-6a2b-4547-cf43-7fcccba4210b"
      },
      "outputs": [
        {
          "name": "stderr",
          "output_type": "stream",
          "text": [
            "/usr/local/lib/python3.10/dist-packages/torch/utils/data/dataloader.py:557: UserWarning: This DataLoader will create 12 worker processes in total. Our suggested max number of worker in current system is 2, which is smaller than what this DataLoader is going to create. Please be aware that excessive worker creation might get DataLoader running slow or even freeze, lower the worker number to avoid potential slowness/freeze if necessary.\n",
            "  warnings.warn(_create_warning_msg(\n"
          ]
        },
        {
          "name": "stdout",
          "output_type": "stream",
          "text": [
            "Epoch [1/10] Loss: 0.9357735514640808\n",
            "Epoch [2/10] Loss: 0.6920249462127686\n",
            "Epoch [3/10] Loss: 0.7062567472457886\n",
            "Epoch [4/10] Loss: 0.3706101179122925\n",
            "Epoch [5/10] Loss: 0.3503952622413635\n",
            "Epoch [6/10] Loss: 0.15318675339221954\n",
            "Epoch [7/10] Loss: 0.20147429406642914\n",
            "Epoch [8/10] Loss: 0.36323440074920654\n",
            "Epoch [9/10] Loss: 0.5063284039497375\n",
            "Epoch [10/10] Loss: 0.16187550127506256\n",
            "Accuracy on train set: 76.77274581803346%\n",
            "training time: 20.137528026103972 minutes\n"
          ]
        }
      ],
      "source": [
        "model = CNN()\n",
        "adam_opt = torch.optim.Adam(model.parameters())\n",
        "adam_model = train(model, adam_opt,train_loader, epochs = 10)"
      ]
    },
    {
      "cell_type": "markdown",
      "metadata": {
        "id": "YdtZHAvltkdi"
      },
      "source": []
    },
    {
      "cell_type": "code",
      "execution_count": null,
      "metadata": {
        "id": "prEBlLZUI5d5"
      },
      "outputs": [],
      "source": [
        "modelSave(adam_model, model_names[0])"
      ]
    },
    {
      "cell_type": "code",
      "execution_count": null,
      "metadata": {
        "colab": {
          "base_uri": "https://localhost:8080/"
        },
        "id": "TtrVe3RnVnxj",
        "outputId": "8ae7612b-5daf-4308-ac5f-0a350d782cbb"
      },
      "outputs": [
        {
          "name": "stdout",
          "output_type": "stream",
          "text": [
            "Epoch [1/10] Loss: 0.7754918932914734\n",
            "Epoch [2/10] Loss: 0.7677635550498962\n",
            "Epoch [3/10] Loss: 0.5114556550979614\n",
            "Epoch [4/10] Loss: 0.45742854475975037\n",
            "Epoch [5/10] Loss: 0.6424604654312134\n",
            "Epoch [6/10] Loss: 0.3141007721424103\n",
            "Epoch [7/10] Loss: 0.27489128708839417\n",
            "Epoch [8/10] Loss: 0.5056999325752258\n",
            "Epoch [9/10] Loss: 0.05177440494298935\n",
            "Epoch [10/10] Loss: 0.25286924839019775\n",
            "Accuracy on train set: 79.26968584251325%\n",
            "training time: 20.255937759081522 minutes\n"
          ]
        }
      ],
      "source": [
        "model_1 = CNN()\n",
        "Nadam_opt = torch.optim.NAdam(model_1.parameters())\n",
        "Nadam_model = train(model_1, Nadam_opt,train_loader, epochs = 10)"
      ]
    },
    {
      "cell_type": "code",
      "execution_count": null,
      "metadata": {
        "id": "URDctG-ghOdY"
      },
      "outputs": [],
      "source": [
        "modelSave(Nadam_model, model_names[1])"
      ]
    },
    {
      "cell_type": "code",
      "execution_count": null,
      "metadata": {
        "colab": {
          "base_uri": "https://localhost:8080/"
        },
        "id": "ns6uWQ_dhQs_",
        "outputId": "29005b51-22a8-476b-abeb-16d88e36b42e"
      },
      "outputs": [
        {
          "output_type": "stream",
          "name": "stdout",
          "text": [
            "Epoch [1/3] Loss: 1.0169720649719238\n",
            "Epoch [2/3] Loss: 1.112924337387085\n",
            "Epoch [3/3] Loss: 0.9854407906532288\n",
            "Accuracy on train set: 46.87882496940024%\n",
            "training time: 6.69947460492452 minutes\n",
            "Epoch [1/3] Loss: 1.117537498474121\n",
            "Epoch [2/3] Loss: 0.7956787347793579\n",
            "Epoch [3/3] Loss: 0.7137969732284546\n",
            "Accuracy on train set: 49.53080375356997%\n",
            "training time: 6.19790157477061 minutes\n",
            "Epoch [1/3] Loss: 1.0519522428512573\n",
            "Epoch [2/3] Loss: 1.058506965637207\n",
            "Epoch [3/3] Loss: 1.4327573776245117\n",
            "Accuracy on train set: 48.74201006391949%\n",
            "training time: 6.248249554634095 minutes\n",
            "Epoch [1/3] Loss: 1.0883945226669312\n",
            "Epoch [2/3] Loss: 0.997260332107544\n",
            "Epoch [3/3] Loss: 1.1369514465332031\n",
            "Accuracy on train set: 46.552427580579355%\n",
            "training time: 6.1595866521199545 minutes\n",
            "Epoch [1/3] Loss: 1.080305814743042\n",
            "Epoch [2/3] Loss: 1.050384521484375\n",
            "Epoch [3/3] Loss: 1.1059249639511108\n",
            "Accuracy on train set: 46.00843193254454%\n",
            "training time: 6.296127156416575 minutes\n",
            "Epoch [1/3] Loss: 1.0816079378128052\n",
            "Epoch [2/3] Loss: 1.072807788848877\n",
            "Epoch [3/3] Loss: 1.0684508085250854\n",
            "Accuracy on train set: 44.82524139806882%\n",
            "training time: 6.238214568297068 minutes\n",
            "Epoch [1/3] Loss: 1.088078498840332\n",
            "Epoch [2/3] Loss: 1.1058040857315063\n",
            "Epoch [3/3] Loss: 1.1026570796966553\n",
            "Accuracy on train set: 46.552427580579355%\n",
            "training time: 6.179508570830027 minutes\n"
          ]
        }
      ],
      "source": [
        "lr = [1, .5, .1, .05,  .01, .005, .001]\n",
        "for learning_rate in lr:\n",
        "  test_model = CNN()\n",
        "  sgd_opt = torch.optim.SGD(test_model.parameters(), lr = learning_rate)\n",
        "  train(test_model, sgd_opt,train_loader, epochs = 3)"
      ]
    },
    {
      "cell_type": "code",
      "execution_count": null,
      "metadata": {
        "colab": {
          "base_uri": "https://localhost:8080/"
        },
        "id": "qQTcbofFpxYT",
        "outputId": "a56e0ba6-a264-4ac8-91a8-479064e6aadd"
      },
      "outputs": [
        {
          "output_type": "stream",
          "name": "stdout",
          "text": [
            "Epoch [1/3] Loss: 1.0337715148925781\n",
            "Epoch [2/3] Loss: 1.1454435586929321\n",
            "Epoch [3/3] Loss: 0.9587417244911194\n",
            "Accuracy on train set: 46.620427036583706%\n",
            "training time: 6.015457995732626 minutes\n",
            "Epoch [1/3] Loss: 1.4649358987808228\n",
            "Epoch [2/3] Loss: 0.9609841704368591\n",
            "Epoch [3/3] Loss: 1.0192288160324097\n",
            "Accuracy on train set: 46.59322725418197%\n",
            "training time: 5.959428032239278 minutes\n",
            "Epoch [1/3] Loss: 1.008629322052002\n",
            "Epoch [2/3] Loss: 1.1471742391586304\n",
            "Epoch [3/3] Loss: 1.1478281021118164\n",
            "Accuracy on train set: 47.16442268461852%\n",
            "training time: 5.998390928904215 minutes\n",
            "Epoch [1/3] Loss: 1.0050415992736816\n",
            "Epoch [2/3] Loss: 1.1121677160263062\n",
            "Epoch [3/3] Loss: 1.0893218517303467\n",
            "Accuracy on train set: 46.620427036583706%\n",
            "training time: 5.973447465896607 minutes\n",
            "Epoch [1/3] Loss: 1.0529741048812866\n",
            "Epoch [2/3] Loss: 1.041077971458435\n",
            "Epoch [3/3] Loss: 1.0802961587905884\n",
            "Accuracy on train set: 44.37644498844009%\n",
            "training time: 5.967019192377726 minutes\n"
          ]
        }
      ],
      "source": [
        "lr = [.2, .15, .1, .08, .05]\n",
        "for learning_rate in lr:\n",
        "  test_model = CNN()\n",
        "  sgd_opt = torch.optim.SGD(test_model.parameters(), lr = learning_rate)\n",
        "  train(test_model, sgd_opt,train_loader, epochs = 3)"
      ]
    },
    {
      "cell_type": "code",
      "execution_count": null,
      "metadata": {
        "colab": {
          "base_uri": "https://localhost:8080/"
        },
        "id": "jBqp3zwsoUtE",
        "outputId": "edc216c3-6834-4a86-c666-450f87c5bc47"
      },
      "outputs": [
        {
          "name": "stdout",
          "output_type": "stream",
          "text": [
            "Epoch [1/10] Loss: 0.9288509488105774\n",
            "Epoch [2/10] Loss: 1.0162770748138428\n",
            "Epoch [3/10] Loss: 0.8293207287788391\n",
            "Epoch [4/10] Loss: 0.8162598609924316\n",
            "Epoch [5/10] Loss: 0.9048367738723755\n",
            "Epoch [6/10] Loss: 0.8243880271911621\n",
            "Epoch [7/10] Loss: 0.6762979626655579\n",
            "Epoch [8/10] Loss: 0.8059738874435425\n",
            "Epoch [9/10] Loss: 0.5798656344413757\n",
            "Epoch [10/10] Loss: 0.7742565870285034\n",
            "Accuracy on train set: 61.93798449612403%\n",
            "training time: 20.076805861790977 minutes\n"
          ]
        }
      ],
      "source": [
        "model_2 = CNN()\n",
        "sgd_opt = torch.optim.SGD(model_2.parameters(), lr = 0.2, momentum=0.5)\n",
        "sgd_model = train(model_2, sgd_opt,train_loader, epochs = 10)"
      ]
    },
    {
      "cell_type": "code",
      "execution_count": null,
      "metadata": {
        "id": "5s7HQyWAhdT_"
      },
      "outputs": [],
      "source": [
        "modelSave(sgd_model, model_names[2])"
      ]
    },
    {
      "cell_type": "code",
      "execution_count": null,
      "metadata": {
        "colab": {
          "base_uri": "https://localhost:8080/"
        },
        "id": "3DJfZMBP5yiP",
        "outputId": "af1d2d84-65e1-475a-99aa-ed99983bb935"
      },
      "outputs": [
        {
          "output_type": "stream",
          "name": "stdout",
          "text": [
            "Epoch [1/3] Loss: 0.9255471229553223\n",
            "Epoch [2/3] Loss: 1.014008641242981\n",
            "Epoch [3/3] Loss: 1.145133376121521\n",
            "Accuracy on train set: 45.31483748130015%\n",
            "training time: 6.310075346628825 minutes\n",
            "Epoch [1/3] Loss: 1.2439064979553223\n",
            "Epoch [2/3] Loss: 1.015623688697815\n",
            "Epoch [3/3] Loss: 1.1535563468933105\n",
            "Accuracy on train set: 46.64762681898545%\n",
            "training time: 6.186844046910604 minutes\n",
            "Epoch [1/3] Loss: 1.1572694778442383\n",
            "Epoch [2/3] Loss: 1.4978512525558472\n",
            "Epoch [3/3] Loss: 0.8588156700134277\n",
            "Accuracy on train set: 46.44362845097239%\n",
            "training time: 6.619152744611104 minutes\n",
            "Epoch [1/3] Loss: 0.9857682585716248\n",
            "Epoch [2/3] Loss: 1.1431044340133667\n",
            "Epoch [3/3] Loss: 1.0486799478530884\n",
            "Accuracy on train set: 44.97484020127839%\n",
            "training time: 6.105836081504822 minutes\n",
            "Epoch [1/3] Loss: 2.582298994064331\n",
            "Epoch [2/3] Loss: 1.1475414037704468\n",
            "Epoch [3/3] Loss: 1.1647430658340454\n",
            "Accuracy on train set: 36.03971168230654%\n",
            "training time: 5.927182451883952 minutes\n",
            "Epoch [1/3] Loss: 166.4281005859375\n",
            "Epoch [2/3] Loss: 26.488962173461914\n",
            "Epoch [3/3] Loss: 343.6772766113281\n",
            "Accuracy on train set: 35.63171494628043%\n",
            "training time: 6.143931821982066 minutes\n"
          ]
        }
      ],
      "source": [
        "m = [0, 0.2, 0.5, 0.7, 0.9, 1]\n",
        "for momentum in m:\n",
        "  test_model = CNN()\n",
        "  rms_opt = torch.optim.RMSprop(test_model.parameters(), momentum = momentum)\n",
        "  train(test_model, rms_opt,train_loader, epochs = 3)"
      ]
    },
    {
      "cell_type": "code",
      "execution_count": null,
      "metadata": {
        "colab": {
          "base_uri": "https://localhost:8080/"
        },
        "id": "UfS6HwIGFYrr",
        "outputId": "ebd02a73-cdc1-466a-dde8-937080904680"
      },
      "outputs": [
        {
          "output_type": "stream",
          "name": "stdout",
          "text": [
            "Epoch [1/3] Loss: 20176992.0\n",
            "Epoch [2/3] Loss: 1912225.5\n",
            "Epoch [3/3] Loss: 538872.9375\n",
            "Accuracy on train set: 38.22929416564668%\n",
            "training time: 5.955648799737294 minutes\n",
            "Epoch [1/3] Loss: 9.156722068786621\n",
            "Epoch [2/3] Loss: 6.37735652923584\n",
            "Epoch [3/3] Loss: 5.025838851928711\n",
            "Accuracy on train set: 39.92928056575548%\n",
            "training time: 6.015823777516683 minutes\n",
            "Epoch [1/3] Loss: 25975.802734375\n",
            "Epoch [2/3] Loss: 10664.2958984375\n",
            "Epoch [3/3] Loss: 6150.9326171875\n",
            "Accuracy on train set: 36.03971168230654%\n",
            "training time: 5.92493497133255 minutes\n",
            "Epoch [1/3] Loss: 2.4555563926696777\n",
            "Epoch [2/3] Loss: 1.1402546167373657\n",
            "Epoch [3/3] Loss: 1.1380671262741089\n",
            "Accuracy on train set: 40.41887664898681%\n",
            "training time: 5.948282400767009 minutes\n",
            "Epoch [1/3] Loss: 1.1357394456863403\n",
            "Epoch [2/3] Loss: 1.2423622608184814\n",
            "Epoch [3/3] Loss: 0.8678849935531616\n",
            "Accuracy on train set: 50.14279885760914%\n",
            "training time: 5.925697426001231 minutes\n",
            "Epoch [1/3] Loss: 1.203364372253418\n",
            "Epoch [2/3] Loss: 0.9037236571311951\n",
            "Epoch [3/3] Loss: 0.9501102566719055\n",
            "Accuracy on train set: 55.67795457636339%\n",
            "training time: 5.973162853717804 minutes\n",
            "Epoch [1/3] Loss: 0.8937881588935852\n",
            "Epoch [2/3] Loss: 0.4238593578338623\n",
            "Epoch [3/3] Loss: 0.9150241017341614\n",
            "Accuracy on train set: 62.681898544811645%\n",
            "training time: 5.98792626063029 minutes\n",
            "Epoch [1/3] Loss: 1.0579160451889038\n",
            "Epoch [2/3] Loss: 0.6095011234283447\n",
            "Epoch [3/3] Loss: 0.7535674571990967\n",
            "Accuracy on train set: 61.362709098327215%\n",
            "training time: 6.050503039360047 minutes\n"
          ]
        }
      ],
      "source": [
        "lr_list = [1, .5, .2, .1, .05, .01, .005, .001]\n",
        "for lr in lr_list:\n",
        "  test_model = CNN()\n",
        "  rms_opt = torch.optim.RMSprop(test_model.parameters(),lr = lr)\n",
        "  train(test_model, rms_opt,train_loader, epochs = 3)"
      ]
    },
    {
      "cell_type": "code",
      "execution_count": null,
      "metadata": {
        "colab": {
          "base_uri": "https://localhost:8080/"
        },
        "id": "w4xOCzcthjse",
        "outputId": "f5a7bc74-d1fa-4ec6-e167-c88c982cfbef"
      },
      "outputs": [
        {
          "name": "stderr",
          "output_type": "stream",
          "text": [
            "/usr/local/lib/python3.10/dist-packages/torch/utils/data/dataloader.py:557: UserWarning: This DataLoader will create 12 worker processes in total. Our suggested max number of worker in current system is 2, which is smaller than what this DataLoader is going to create. Please be aware that excessive worker creation might get DataLoader running slow or even freeze, lower the worker number to avoid potential slowness/freeze if necessary.\n",
            "  warnings.warn(_create_warning_msg(\n"
          ]
        },
        {
          "name": "stdout",
          "output_type": "stream",
          "text": [
            "Epoch [1/10] Loss: 2.171565055847168\n",
            "Epoch [2/10] Loss: 1.2204830646514893\n",
            "Epoch [3/10] Loss: 0.9975512623786926\n",
            "Epoch [4/10] Loss: 1.0001450777053833\n",
            "Epoch [5/10] Loss: 1.0933372974395752\n",
            "Epoch [6/10] Loss: 0.9441161751747131\n",
            "Epoch [7/10] Loss: 0.9674811959266663\n",
            "Epoch [8/10] Loss: 1.031933307647705\n",
            "Epoch [9/10] Loss: 0.9946839213371277\n",
            "Epoch [10/10] Loss: 1.104393720626831\n",
            "Accuracy on train set: 43.949408404732765%\n",
            "training time: 20.530764039357503 minutes\n"
          ]
        }
      ],
      "source": [
        "model_3 = CNN()\n",
        "rmsprop_opt = torch.optim.RMSprop(model_3.parameters(), lr = .005, momentum = 0.9)\n",
        "rms_model = train(model_3, rmsprop_opt,train_loader, epochs = 10)"
      ]
    },
    {
      "cell_type": "code",
      "execution_count": null,
      "metadata": {
        "id": "2brufM9arSrH"
      },
      "outputs": [],
      "source": [
        "modelSave(rms_model, model_names[3])"
      ]
    },
    {
      "cell_type": "code",
      "execution_count": null,
      "metadata": {
        "id": "dHSktn5XbOro"
      },
      "outputs": [],
      "source": [
        "adam_model = modelLoad(model_names[0])\n",
        "Nadam_model = modelLoad(model_names[1])\n",
        "sgd_model = modelLoad(model_names[2])\n",
        "rms_model = modelLoad(model_names[3])"
      ]
    },
    {
      "cell_type": "code",
      "execution_count": null,
      "metadata": {
        "colab": {
          "base_uri": "https://localhost:8080/"
        },
        "id": "LpQ9KCc4bOuN",
        "outputId": "1288deab-08cb-4123-c35a-3dc4a2dbc82d"
      },
      "outputs": [
        {
          "name": "stdout",
          "output_type": "stream",
          "text": [
            "CNN(\n",
            "  (conv1): Conv2d(3, 6, kernel_size=(9, 9), stride=(1, 1), padding=same)\n",
            "  (pool): MaxPool2d(kernel_size=8, stride=8, padding=0, dilation=1, ceil_mode=False)\n",
            "  (conv2): Conv2d(6, 16, kernel_size=(5, 5), stride=(1, 1))\n",
            "  (fc1): Linear(in_features=144, out_features=120, bias=True)\n",
            "  (fc2): Linear(in_features=120, out_features=84, bias=True)\n",
            "  (fc3): Linear(in_features=84, out_features=3, bias=True)\n",
            ")\n"
          ]
        }
      ],
      "source": [
        "print(adam_model)"
      ]
    },
    {
      "cell_type": "code",
      "execution_count": null,
      "metadata": {
        "colab": {
          "base_uri": "https://localhost:8080/",
          "height": 1000
        },
        "id": "JbdhWmr1rXH5",
        "outputId": "6cb4e938-e3da-4c78-f602-5ffabd8ac250"
      },
      "outputs": [
        {
          "name": "stdout",
          "output_type": "stream",
          "text": [
            "Adam_Model: \n",
            "Accuracy on test set: 86.1337661743164%\n",
            "F1 score on test set: 0.8609889223980575\n",
            "Log Loss on test set: 0.3350663527084454\n"
          ]
        },
        {
          "data": {
            "image/png": "[encoded data removed]",
            "text/plain": [
              "<Figure size 640x480 with 2 Axes>"
            ]
          },
          "metadata": {},
          "output_type": "display_data"
        },
        {
          "name": "stdout",
          "output_type": "stream",
          "text": [
            "NAdam_Model: \n"
          ]
        },
        {
          "name": "stderr",
          "output_type": "stream",
          "text": [
            "/usr/local/lib/python3.10/dist-packages/torch/utils/data/dataloader.py:557: UserWarning: This DataLoader will create 12 worker processes in total. Our suggested max number of worker in current system is 2, which is smaller than what this DataLoader is going to create. Please be aware that excessive worker creation might get DataLoader running slow or even freeze, lower the worker number to avoid potential slowness/freeze if necessary.\n",
            "  warnings.warn(_create_warning_msg(\n"
          ]
        },
        {
          "name": "stdout",
          "output_type": "stream",
          "text": [
            "Accuracy on test set: 81.23980712890625%\n",
            "F1 score on test set: 0.8040334589009251\n",
            "Log Loss on test set: 0.45892103250027594\n"
          ]
        },
        {
          "data": {
            "image/png": "[encoded data removed]",
            "text/plain": [
              "<Figure size 640x480 with 2 Axes>"
            ]
          },
          "metadata": {},
          "output_type": "display_data"
        },
        {
          "name": "stdout",
          "output_type": "stream",
          "text": [
            "SGD_Model: \n"
          ]
        },
        {
          "name": "stderr",
          "output_type": "stream",
          "text": [
            "/usr/local/lib/python3.10/dist-packages/torch/utils/data/dataloader.py:557: UserWarning: This DataLoader will create 12 worker processes in total. Our suggested max number of worker in current system is 2, which is smaller than what this DataLoader is going to create. Please be aware that excessive worker creation might get DataLoader running slow or even freeze, lower the worker number to avoid potential slowness/freeze if necessary.\n",
            "  warnings.warn(_create_warning_msg(\n"
          ]
        },
        {
          "name": "stdout",
          "output_type": "stream",
          "text": [
            "Accuracy on test set: 66.39478302001953%\n",
            "F1 score on test set: 0.6591369033947583\n",
            "Log Loss on test set: 0.8268909544008612\n"
          ]
        },
        {
          "data": {
            "image/png": "[encoded data removed]",
            "text/plain": [
              "<Figure size 640x480 with 2 Axes>"
            ]
          },
          "metadata": {},
          "output_type": "display_data"
        },
        {
          "name": "stdout",
          "output_type": "stream",
          "text": [
            "RMSprop_Model: \n"
          ]
        },
        {
          "name": "stderr",
          "output_type": "stream",
          "text": [
            "/usr/local/lib/python3.10/dist-packages/torch/utils/data/dataloader.py:557: UserWarning: This DataLoader will create 12 worker processes in total. Our suggested max number of worker in current system is 2, which is smaller than what this DataLoader is going to create. Please be aware that excessive worker creation might get DataLoader running slow or even freeze, lower the worker number to avoid potential slowness/freeze if necessary.\n",
            "  warnings.warn(_create_warning_msg(\n"
          ]
        },
        {
          "name": "stdout",
          "output_type": "stream",
          "text": [
            "Accuracy on test set: 22.67536735534668%\n",
            "F1 score on test set: 0.0838264898823366\n",
            "Log Loss on test set: 1.1193549292477498\n"
          ]
        },
        {
          "data": {
            "image/png": "[encoded data removed]",
            "text/plain": [
              "<Figure size 640x480 with 2 Axes>"
            ]
          },
          "metadata": {},
          "output_type": "display_data"
        },
        {
          "data": {
            "text/plain": [
              "(array([[139,   0,   0],\n",
              "        [285,   0,   0],\n",
              "        [189,   0,   0]]),\n",
              " tensor(22.6754),\n",
              " 0.0838264898823366,\n",
              " 1.1193549292477498)"
            ]
          },
          "execution_count": 13,
          "metadata": {},
          "output_type": "execute_result"
        }
      ],
      "source": [
        "print('Adam_Model: ')\n",
        "test(adam_model, test_loader, model_name = 'Adam_Model', display = True)\n",
        "\n",
        "print('NAdam_Model: ')\n",
        "test(Nadam_model, test_loader, model_name = 'NAdam_Model', display = True)\n",
        "\n",
        "print('SGD_Model: ')\n",
        "test(sgd_model, test_loader, model_name = 'SGD_Model', display = True)\n",
        "\n",
        "print('RMSprop_Model: ')\n",
        "test(rms_model, test_loader, model_name = 'RMSprop_Model', display = True)"
      ]
    },
    {
      "cell_type": "code",
      "source": [
        "lr_list = [1, .5, .2, .1, .05, .01, .005, .001]\n",
        "m = [0, 0.2, 0.5, 0.7, 0.9, 1]\n",
        "for lr in lr_list:\n",
        "  for momentum in m:\n",
        "    test_model = CNN()\n",
        "    test_model_sgd = CNN()\n",
        "    print()\n",
        "    print('lr: ',lr, 'm: ', momentum)\n",
        "    print()\n",
        "    print('rms: ')\n",
        "    rms_opt = torch.optim.RMSprop(test_model.parameters(),lr = lr, momentum = momentum)\n",
        "    train(test_model, rms_opt,train_loader, epochs = 3)\n",
        "\n",
        "    print()\n",
        "    print('sgd: ')\n",
        "    sgd_opt = torch.optim.SGD(test_model_sgd.parameters(), lr = lr, momentum = momentum)\n",
        "    train(test_model_sgd, sgd_opt,train_loader, epochs = 3)"
      ],
      "metadata": {
        "colab": {
          "base_uri": "https://localhost:8080/",
          "height": 1000
        },
        "id": "DzM4qdGTEWUv",
        "outputId": "92322330-d6ec-4961-9758-42747c7d3425"
      },
      "execution_count": null,
      "outputs": [
        {
          "output_type": "stream",
          "name": "stdout",
          "text": [
            "\n",
            "lr:  1 m:  0\n",
            "\n",
            "rms: \n"
          ]
        },
        {
          "output_type": "stream",
          "name": "stderr",
          "text": [
            "/usr/local/lib/python3.10/dist-packages/torch/utils/data/dataloader.py:557: UserWarning: This DataLoader will create 12 worker processes in total. Our suggested max number of worker in current system is 2, which is smaller than what this DataLoader is going to create. Please be aware that excessive worker creation might get DataLoader running slow or even freeze, lower the worker number to avoid potential slowness/freeze if necessary.\n",
            "  warnings.warn(_create_warning_msg(\n"
          ]
        },
        {
          "output_type": "stream",
          "name": "stdout",
          "text": [
            "Epoch [1/3] Loss: 4.740566730499268\n",
            "Epoch [2/3] Loss: 0.8656845092773438\n",
            "Epoch [3/3] Loss: 245908.265625\n",
            "Accuracy on train set: 44.94764041887665%\n",
            "training time: 6.319356270631155 minutes\n",
            "\n",
            "sgd: \n",
            "Epoch [1/3] Loss: 1.0087674856185913\n",
            "Epoch [2/3] Loss: 1.1386915445327759\n",
            "Epoch [3/3] Loss: 1.08873450756073\n",
            "Accuracy on train set: 46.28042975656195%\n",
            "training time: 6.136339143911997 minutes\n",
            "\n",
            "lr:  1 m:  0.2\n",
            "\n",
            "rms: \n",
            "Epoch [1/3] Loss: 8687987.0\n",
            "Epoch [2/3] Loss: 8765.0283203125\n",
            "Epoch [3/3] Loss: 16250.9619140625\n",
            "Accuracy on train set: 38.89568883448933%\n",
            "training time: 6.160235758622488 minutes\n",
            "\n",
            "sgd: \n",
            "Epoch [1/3] Loss: 0.9897747039794922\n",
            "Epoch [2/3] Loss: 1.1847587823867798\n",
            "Epoch [3/3] Loss: 1.3272775411605835\n",
            "Accuracy on train set: 50.79559363525092%\n",
            "training time: 6.103579250971476 minutes\n",
            "\n",
            "lr:  1 m:  0.5\n",
            "\n",
            "rms: \n",
            "Epoch [1/3] Loss: 1348733952.0\n",
            "Epoch [2/3] Loss: 534750848.0\n",
            "Epoch [3/3] Loss: 13366.5908203125\n",
            "Accuracy on train set: 40.73167414660683%\n",
            "training time: 6.158293835322062 minutes\n",
            "\n",
            "sgd: \n",
            "Epoch [1/3] Loss: 1.006838083267212\n",
            "Epoch [2/3] Loss: 1.1521642208099365\n",
            "Epoch [3/3] Loss: 0.8808153867721558\n",
            "Accuracy on train set: 45.94043247654019%\n",
            "training time: 6.104627704620361 minutes\n",
            "\n",
            "lr:  1 m:  0.7\n",
            "\n",
            "rms: \n",
            "Epoch [1/3] Loss: 181079728.0\n",
            "Epoch [2/3] Loss: 61525.89453125\n",
            "Epoch [3/3] Loss: 26452.6640625\n",
            "Accuracy on train set: 36.76050591595267%\n",
            "training time: 6.143895995616913 minutes\n",
            "\n",
            "sgd: \n",
            "Epoch [1/3] Loss: 1.1466116905212402\n",
            "Epoch [2/3] Loss: 1.0604045391082764\n",
            "Epoch [3/3] Loss: 0.9891912341117859\n",
            "Accuracy on train set: 46.06283149734802%\n",
            "training time: 6.099737679958343 minutes\n",
            "\n",
            "lr:  1 m:  0.9\n",
            "\n",
            "rms: \n",
            "Epoch [1/3] Loss: 42950.9296875\n",
            "Epoch [2/3] Loss: 296.6514587402344\n",
            "Epoch [3/3] Loss: 34.06351089477539\n",
            "Accuracy on train set: 37.821297429620564%\n",
            "training time: 6.116422935326894 minutes\n",
            "\n",
            "sgd: \n",
            "Epoch [1/3] Loss: 1.1058117151260376\n",
            "Epoch [2/3] Loss: nan\n",
            "Epoch [3/3] Loss: nan\n",
            "Accuracy on train set: 37.236502107983135%\n",
            "training time: 6.0950175523757935 minutes\n",
            "\n",
            "lr:  1 m:  1\n",
            "\n",
            "rms: \n",
            "Epoch [1/3] Loss: 632640704.0\n",
            "Epoch [2/3] Loss: 2247272448.0\n",
            "Epoch [3/3] Loss: 384366144.0\n",
            "Accuracy on train set: 34.28532571739426%\n",
            "training time: 6.139591336250305 minutes\n",
            "\n",
            "sgd: \n",
            "Epoch [1/3] Loss: 2016402.5\n",
            "Epoch [2/3] Loss: nan\n",
            "Epoch [3/3] Loss: nan\n",
            "Accuracy on train set: 31.8781449748402%\n",
            "training time: 6.11188573439916 minutes\n",
            "\n",
            "lr:  0.5 m:  0\n",
            "\n",
            "rms: \n",
            "Epoch [1/3] Loss: 126708.234375\n",
            "Epoch [2/3] Loss: 41608.57421875\n",
            "Epoch [3/3] Loss: 268.1466979980469\n",
            "Accuracy on train set: 34.6797225622195%\n",
            "training time: 6.166739308834076 minutes\n",
            "\n",
            "sgd: \n",
            "Epoch [1/3] Loss: 0.9322288632392883\n",
            "Epoch [2/3] Loss: 1.105059027671814\n",
            "Epoch [3/3] Loss: 1.0510988235473633\n",
            "Accuracy on train set: 46.60682714538284%\n",
            "training time: 6.1137631177902225 minutes\n",
            "\n",
            "lr:  0.5 m:  0.2\n",
            "\n",
            "rms: \n",
            "Epoch [1/3] Loss: 102963.34375\n",
            "Epoch [2/3] Loss: 34.745513916015625\n",
            "Epoch [3/3] Loss: 1.058934211730957\n",
            "Accuracy on train set: 43.23405412756698%\n",
            "training time: 6.1488726814587915 minutes\n",
            "\n",
            "sgd: \n",
            "Epoch [1/3] Loss: 1.0897353887557983\n",
            "Epoch [2/3] Loss: 1.162886619567871\n",
            "Epoch [3/3] Loss: 1.4024598598480225\n",
            "Accuracy on train set: 48.14361485108119%\n",
            "training time: 6.1163655360539755 minutes\n",
            "\n",
            "lr:  0.5 m:  0.5\n",
            "\n",
            "rms: \n",
            "Epoch [1/3] Loss: 5.524895668029785\n",
            "Epoch [2/3] Loss: 1.1516969203948975\n",
            "Epoch [3/3] Loss: 12990.1328125\n",
            "Accuracy on train set: 42.60845913232694%\n",
            "training time: 6.163337445259094 minutes\n",
            "\n",
            "sgd: \n",
            "Epoch [1/3] Loss: 1.0556493997573853\n",
            "Epoch [2/3] Loss: 0.9806424975395203\n",
            "Epoch [3/3] Loss: 1.047881007194519\n",
            "Accuracy on train set: 46.02203182374541%\n",
            "training time: 6.167094294230143 minutes\n",
            "\n",
            "lr:  0.5 m:  0.7\n",
            "\n",
            "rms: \n",
            "Epoch [1/3] Loss: 12784.322265625\n",
            "Epoch [2/3] Loss: 4503.29443359375\n",
            "Epoch [3/3] Loss: 405.61395263671875\n",
            "Accuracy on train set: 37.65809873521012%\n",
            "training time: 6.158771034081777 minutes\n",
            "\n",
            "sgd: \n",
            "Epoch [1/3] Loss: 1.0971360206604004\n",
            "Epoch [2/3] Loss: 0.8076079487800598\n",
            "Epoch [3/3] Loss: 1.065426230430603\n",
            "Accuracy on train set: 46.81082551339589%\n",
            "training time: 6.334813666343689 minutes\n",
            "\n",
            "lr:  0.5 m:  0.9\n",
            "\n",
            "rms: \n",
            "Epoch [1/3] Loss: 17938.736328125\n",
            "Epoch [2/3] Loss: 25.84417724609375\n",
            "Epoch [3/3] Loss: 2.5875136852264404\n",
            "Accuracy on train set: 36.719706242350064%\n",
            "training time: 6.374173812071482 minutes\n",
            "\n",
            "sgd: \n",
            "Epoch [1/3] Loss: 1.1958929300308228\n",
            "Epoch [2/3] Loss: 1.0524216890335083\n",
            "Epoch [3/3] Loss: 1.0612971782684326\n",
            "Accuracy on train set: 45.165238678090574%\n",
            "training time: 6.213745093345642 minutes\n",
            "\n",
            "lr:  0.5 m:  1\n",
            "\n",
            "rms: \n",
            "Epoch [1/3] Loss: 4358824.5\n",
            "Epoch [2/3] Loss: 5508851.5\n",
            "Epoch [3/3] Loss: 1556.2269287109375\n",
            "Accuracy on train set: 35.35971712226302%\n",
            "training time: 6.39194043080012 minutes\n",
            "\n",
            "sgd: \n",
            "Epoch [1/3] Loss: 1.1962143182754517\n",
            "Epoch [2/3] Loss: 1.2026783227920532\n",
            "Epoch [3/3] Loss: 1.2117916345596313\n",
            "Accuracy on train set: 41.98286413708691%\n",
            "training time: 6.641972625255585 minutes\n",
            "\n",
            "lr:  0.2 m:  0\n",
            "\n",
            "rms: \n",
            "Epoch [1/3] Loss: 1.0949960947036743\n",
            "Epoch [2/3] Loss: 1.089056372642517\n",
            "Epoch [3/3] Loss: 1.0613107681274414\n",
            "Accuracy on train set: 43.66925064599483%\n",
            "training time: 6.376047046979268 minutes\n",
            "\n",
            "sgd: \n",
            "Epoch [1/3] Loss: 0.9967846274375916\n",
            "Epoch [2/3] Loss: 1.0416409969329834\n",
            "Epoch [3/3] Loss: 0.6037746667861938\n",
            "Accuracy on train set: 50.4827961376309%\n",
            "training time: 6.189830044905345 minutes\n",
            "\n",
            "lr:  0.2 m:  0.2\n",
            "\n",
            "rms: \n",
            "Epoch [1/3] Loss: 1861.6357421875\n",
            "Epoch [2/3] Loss: 1.2992891073226929\n",
            "Epoch [3/3] Loss: 961.992919921875\n",
            "Accuracy on train set: 46.15803073575412%\n",
            "training time: 6.129230654239654 minutes\n",
            "\n",
            "sgd: \n",
            "Epoch [1/3] Loss: 0.9880883097648621\n",
            "Epoch [2/3] Loss: 1.1784595251083374\n",
            "Epoch [3/3] Loss: 0.8681550025939941\n",
            "Accuracy on train set: 48.2796137630899%\n",
            "training time: 6.183507883548737 minutes\n",
            "\n",
            "lr:  0.2 m:  0.5\n",
            "\n",
            "rms: \n",
            "Epoch [1/3] Loss: 17.891191482543945\n",
            "Epoch [2/3] Loss: 4.3269524574279785\n",
            "Epoch [3/3] Loss: 5.3160834312438965\n",
            "Accuracy on train set: 37.590099279205766%\n",
            "training time: 6.199198313554128 minutes\n",
            "\n",
            "sgd: \n",
            "Epoch [1/3] Loss: 1.0438929796218872\n",
            "Epoch [2/3] Loss: 1.096755027770996\n",
            "Epoch [3/3] Loss: 0.6612779498100281\n",
            "Accuracy on train set: 51.978784169726644%\n",
            "training time: 6.124735840161642 minutes\n",
            "\n",
            "lr:  0.2 m:  0.7\n",
            "\n",
            "rms: \n",
            "Epoch [1/3] Loss: 1.6628215312957764\n",
            "Epoch [2/3] Loss: 1.1334558725357056\n",
            "Epoch [3/3] Loss: 1.1241998672485352\n",
            "Accuracy on train set: 43.28845369237046%\n",
            "training time: 6.212400345007579 minutes\n",
            "\n",
            "sgd: \n",
            "Epoch [1/3] Loss: 1.0471240282058716\n",
            "Epoch [2/3] Loss: 0.7532227039337158\n",
            "Epoch [3/3] Loss: 4.634434223175049\n",
            "Accuracy on train set: 52.046783625730995%\n",
            "training time: 6.190379365285238 minutes\n",
            "\n",
            "lr:  0.2 m:  0.9\n",
            "\n",
            "rms: \n",
            "Epoch [1/3] Loss: 1019.697998046875\n",
            "Epoch [2/3] Loss: 281.8381042480469\n",
            "Epoch [3/3] Loss: 19.539304733276367\n",
            "Accuracy on train set: 35.06051951584387%\n",
            "training time: 6.263674092292786 minutes\n",
            "\n",
            "sgd: \n",
            "Epoch [1/3] Loss: 1.0652114152908325\n",
            "Epoch [2/3] Loss: 1.072429895401001\n"
          ]
        },
        {
          "output_type": "error",
          "ename": "FileNotFoundError",
          "evalue": "ignored",
          "traceback": [
            "\u001b[0;31m---------------------------------------------------------------------------\u001b[0m",
            "\u001b[0;31mFileNotFoundError\u001b[0m                         Traceback (most recent call last)",
            "\u001b[0;32m<ipython-input-22-e6eada71d9dc>\u001b[0m in \u001b[0;36m<cell line: 3>\u001b[0;34m()\u001b[0m\n\u001b[1;32m     15\u001b[0m     \u001b[0mprint\u001b[0m\u001b[0;34m(\u001b[0m\u001b[0;34m'sgd: '\u001b[0m\u001b[0;34m)\u001b[0m\u001b[0;34m\u001b[0m\u001b[0;34m\u001b[0m\u001b[0m\n\u001b[1;32m     16\u001b[0m     \u001b[0msgd_opt\u001b[0m \u001b[0;34m=\u001b[0m \u001b[0mtorch\u001b[0m\u001b[0;34m.\u001b[0m\u001b[0moptim\u001b[0m\u001b[0;34m.\u001b[0m\u001b[0mSGD\u001b[0m\u001b[0;34m(\u001b[0m\u001b[0mtest_model_sgd\u001b[0m\u001b[0;34m.\u001b[0m\u001b[0mparameters\u001b[0m\u001b[0;34m(\u001b[0m\u001b[0;34m)\u001b[0m\u001b[0;34m,\u001b[0m \u001b[0mlr\u001b[0m \u001b[0;34m=\u001b[0m \u001b[0mlr\u001b[0m\u001b[0;34m,\u001b[0m \u001b[0mmomentum\u001b[0m \u001b[0;34m=\u001b[0m \u001b[0mmomentum\u001b[0m\u001b[0;34m)\u001b[0m\u001b[0;34m\u001b[0m\u001b[0;34m\u001b[0m\u001b[0m\n\u001b[0;32m---> 17\u001b[0;31m     \u001b[0mtrain\u001b[0m\u001b[0;34m(\u001b[0m\u001b[0mtest_model_sgd\u001b[0m\u001b[0;34m,\u001b[0m \u001b[0msgd_opt\u001b[0m\u001b[0;34m,\u001b[0m\u001b[0mtrain_loader\u001b[0m\u001b[0;34m,\u001b[0m \u001b[0mepochs\u001b[0m \u001b[0;34m=\u001b[0m \u001b[0;36m3\u001b[0m\u001b[0;34m)\u001b[0m\u001b[0;34m\u001b[0m\u001b[0;34m\u001b[0m\u001b[0m\n\u001b[0m",
            "\u001b[0;32m<ipython-input-13-b6ca915e1b83>\u001b[0m in \u001b[0;36mtrain\u001b[0;34m(model, opt, data_loader, epochs, loss_func)\u001b[0m\n\u001b[1;32m      4\u001b[0m   \u001b[0mstart\u001b[0m \u001b[0;34m=\u001b[0m \u001b[0mtime\u001b[0m\u001b[0;34m.\u001b[0m\u001b[0mtime\u001b[0m\u001b[0;34m(\u001b[0m\u001b[0;34m)\u001b[0m\u001b[0;34m\u001b[0m\u001b[0;34m\u001b[0m\u001b[0m\n\u001b[1;32m      5\u001b[0m   \u001b[0;32mfor\u001b[0m \u001b[0mepoch\u001b[0m \u001b[0;32min\u001b[0m \u001b[0mrange\u001b[0m\u001b[0;34m(\u001b[0m\u001b[0mepochs\u001b[0m\u001b[0;34m)\u001b[0m\u001b[0;34m:\u001b[0m\u001b[0;34m\u001b[0m\u001b[0;34m\u001b[0m\u001b[0m\n\u001b[0;32m----> 6\u001b[0;31m     \u001b[0;32mfor\u001b[0m \u001b[0mbatch\u001b[0m\u001b[0;34m,\u001b[0m \u001b[0;34m(\u001b[0m\u001b[0mtrain\u001b[0m\u001b[0;34m,\u001b[0m \u001b[0mtarget\u001b[0m\u001b[0;34m)\u001b[0m \u001b[0;32min\u001b[0m \u001b[0menumerate\u001b[0m\u001b[0;34m(\u001b[0m\u001b[0mdata_loader\u001b[0m\u001b[0;34m)\u001b[0m\u001b[0;34m:\u001b[0m\u001b[0;34m\u001b[0m\u001b[0;34m\u001b[0m\u001b[0m\n\u001b[0m\u001b[1;32m      7\u001b[0m       \u001b[0mmodel\u001b[0m\u001b[0;34m.\u001b[0m\u001b[0mtrain\u001b[0m\u001b[0;34m(\u001b[0m\u001b[0;34m)\u001b[0m\u001b[0;34m\u001b[0m\u001b[0;34m\u001b[0m\u001b[0m\n\u001b[1;32m      8\u001b[0m       \u001b[0mtarget_pred\u001b[0m \u001b[0;34m=\u001b[0m \u001b[0mmodel\u001b[0m\u001b[0;34m(\u001b[0m\u001b[0mtrain\u001b[0m\u001b[0;34m)\u001b[0m\u001b[0;34m\u001b[0m\u001b[0;34m\u001b[0m\u001b[0m\n",
            "\u001b[0;32m/usr/local/lib/python3.10/dist-packages/torch/utils/data/dataloader.py\u001b[0m in \u001b[0;36m__next__\u001b[0;34m(self)\u001b[0m\n\u001b[1;32m    628\u001b[0m                 \u001b[0;31m# TODO(https://github.com/pytorch/pytorch/issues/76750)\u001b[0m\u001b[0;34m\u001b[0m\u001b[0;34m\u001b[0m\u001b[0m\n\u001b[1;32m    629\u001b[0m                 \u001b[0mself\u001b[0m\u001b[0;34m.\u001b[0m\u001b[0m_reset\u001b[0m\u001b[0;34m(\u001b[0m\u001b[0;34m)\u001b[0m  \u001b[0;31m# type: ignore[call-arg]\u001b[0m\u001b[0;34m\u001b[0m\u001b[0;34m\u001b[0m\u001b[0m\n\u001b[0;32m--> 630\u001b[0;31m             \u001b[0mdata\u001b[0m \u001b[0;34m=\u001b[0m \u001b[0mself\u001b[0m\u001b[0;34m.\u001b[0m\u001b[0m_next_data\u001b[0m\u001b[0;34m(\u001b[0m\u001b[0;34m)\u001b[0m\u001b[0;34m\u001b[0m\u001b[0;34m\u001b[0m\u001b[0m\n\u001b[0m\u001b[1;32m    631\u001b[0m             \u001b[0mself\u001b[0m\u001b[0;34m.\u001b[0m\u001b[0m_num_yielded\u001b[0m \u001b[0;34m+=\u001b[0m \u001b[0;36m1\u001b[0m\u001b[0;34m\u001b[0m\u001b[0;34m\u001b[0m\u001b[0m\n\u001b[1;32m    632\u001b[0m             \u001b[0;32mif\u001b[0m \u001b[0mself\u001b[0m\u001b[0;34m.\u001b[0m\u001b[0m_dataset_kind\u001b[0m \u001b[0;34m==\u001b[0m \u001b[0m_DatasetKind\u001b[0m\u001b[0;34m.\u001b[0m\u001b[0mIterable\u001b[0m \u001b[0;32mand\u001b[0m\u001b[0;31m \u001b[0m\u001b[0;31m\\\u001b[0m\u001b[0;34m\u001b[0m\u001b[0;34m\u001b[0m\u001b[0m\n",
            "\u001b[0;32m/usr/local/lib/python3.10/dist-packages/torch/utils/data/dataloader.py\u001b[0m in \u001b[0;36m_next_data\u001b[0;34m(self)\u001b[0m\n\u001b[1;32m   1343\u001b[0m             \u001b[0;32melse\u001b[0m\u001b[0;34m:\u001b[0m\u001b[0;34m\u001b[0m\u001b[0;34m\u001b[0m\u001b[0m\n\u001b[1;32m   1344\u001b[0m                 \u001b[0;32mdel\u001b[0m \u001b[0mself\u001b[0m\u001b[0;34m.\u001b[0m\u001b[0m_task_info\u001b[0m\u001b[0;34m[\u001b[0m\u001b[0midx\u001b[0m\u001b[0;34m]\u001b[0m\u001b[0;34m\u001b[0m\u001b[0;34m\u001b[0m\u001b[0m\n\u001b[0;32m-> 1345\u001b[0;31m                 \u001b[0;32mreturn\u001b[0m \u001b[0mself\u001b[0m\u001b[0;34m.\u001b[0m\u001b[0m_process_data\u001b[0m\u001b[0;34m(\u001b[0m\u001b[0mdata\u001b[0m\u001b[0;34m)\u001b[0m\u001b[0;34m\u001b[0m\u001b[0;34m\u001b[0m\u001b[0m\n\u001b[0m\u001b[1;32m   1346\u001b[0m \u001b[0;34m\u001b[0m\u001b[0m\n\u001b[1;32m   1347\u001b[0m     \u001b[0;32mdef\u001b[0m \u001b[0m_try_put_index\u001b[0m\u001b[0;34m(\u001b[0m\u001b[0mself\u001b[0m\u001b[0;34m)\u001b[0m\u001b[0;34m:\u001b[0m\u001b[0;34m\u001b[0m\u001b[0;34m\u001b[0m\u001b[0m\n",
            "\u001b[0;32m/usr/local/lib/python3.10/dist-packages/torch/utils/data/dataloader.py\u001b[0m in \u001b[0;36m_process_data\u001b[0;34m(self, data)\u001b[0m\n\u001b[1;32m   1369\u001b[0m         \u001b[0mself\u001b[0m\u001b[0;34m.\u001b[0m\u001b[0m_try_put_index\u001b[0m\u001b[0;34m(\u001b[0m\u001b[0;34m)\u001b[0m\u001b[0;34m\u001b[0m\u001b[0;34m\u001b[0m\u001b[0m\n\u001b[1;32m   1370\u001b[0m         \u001b[0;32mif\u001b[0m \u001b[0misinstance\u001b[0m\u001b[0;34m(\u001b[0m\u001b[0mdata\u001b[0m\u001b[0;34m,\u001b[0m \u001b[0mExceptionWrapper\u001b[0m\u001b[0;34m)\u001b[0m\u001b[0;34m:\u001b[0m\u001b[0;34m\u001b[0m\u001b[0;34m\u001b[0m\u001b[0m\n\u001b[0;32m-> 1371\u001b[0;31m             \u001b[0mdata\u001b[0m\u001b[0;34m.\u001b[0m\u001b[0mreraise\u001b[0m\u001b[0;34m(\u001b[0m\u001b[0;34m)\u001b[0m\u001b[0;34m\u001b[0m\u001b[0;34m\u001b[0m\u001b[0m\n\u001b[0m\u001b[1;32m   1372\u001b[0m         \u001b[0;32mreturn\u001b[0m \u001b[0mdata\u001b[0m\u001b[0;34m\u001b[0m\u001b[0;34m\u001b[0m\u001b[0m\n\u001b[1;32m   1373\u001b[0m \u001b[0;34m\u001b[0m\u001b[0m\n",
            "\u001b[0;32m/usr/local/lib/python3.10/dist-packages/torch/_utils.py\u001b[0m in \u001b[0;36mreraise\u001b[0;34m(self)\u001b[0m\n\u001b[1;32m    692\u001b[0m             \u001b[0;31m# instantiate since we don't know how to\u001b[0m\u001b[0;34m\u001b[0m\u001b[0;34m\u001b[0m\u001b[0m\n\u001b[1;32m    693\u001b[0m             \u001b[0;32mraise\u001b[0m \u001b[0mRuntimeError\u001b[0m\u001b[0;34m(\u001b[0m\u001b[0mmsg\u001b[0m\u001b[0;34m)\u001b[0m \u001b[0;32mfrom\u001b[0m \u001b[0;32mNone\u001b[0m\u001b[0;34m\u001b[0m\u001b[0;34m\u001b[0m\u001b[0m\n\u001b[0;32m--> 694\u001b[0;31m         \u001b[0;32mraise\u001b[0m \u001b[0mexception\u001b[0m\u001b[0;34m\u001b[0m\u001b[0;34m\u001b[0m\u001b[0m\n\u001b[0m\u001b[1;32m    695\u001b[0m \u001b[0;34m\u001b[0m\u001b[0m\n\u001b[1;32m    696\u001b[0m \u001b[0;34m\u001b[0m\u001b[0m\n",
            "\u001b[0;31mFileNotFoundError\u001b[0m: Caught FileNotFoundError in DataLoader worker process 1.\nOriginal Traceback (most recent call last):\n  File \"/usr/local/lib/python3.10/dist-packages/torch/utils/data/_utils/worker.py\", line 308, in _worker_loop\n    data = fetcher.fetch(index)\n  File \"/usr/local/lib/python3.10/dist-packages/torch/utils/data/_utils/fetch.py\", line 49, in fetch\n    data = self.dataset.__getitems__(possibly_batched_index)\n  File \"/usr/local/lib/python3.10/dist-packages/torch/utils/data/dataset.py\", line 364, in __getitems__\n    return [self.dataset[self.indices[idx]] for idx in indices]\n  File \"/usr/local/lib/python3.10/dist-packages/torch/utils/data/dataset.py\", line 364, in <listcomp>\n    return [self.dataset[self.indices[idx]] for idx in indices]\n  File \"/usr/local/lib/python3.10/dist-packages/torchvision/datasets/folder.py\", line 229, in __getitem__\n    sample = self.loader(path)\n  File \"/usr/local/lib/python3.10/dist-packages/torchvision/datasets/folder.py\", line 268, in default_loader\n    return pil_loader(path)\n  File \"/usr/local/lib/python3.10/dist-packages/torchvision/datasets/folder.py\", line 246, in pil_loader\n    with open(path, \"rb\") as f:\nFileNotFoundError: [Errno 2] No such file or directory: '/content/drive/My Drive/UH/year4/Brain_MRI_Scans/2/329.png'\n"
          ]
        }
      ]
    },
    {
      "cell_type": "code",
      "source": [
        "lr_list = [.1, .05, .01, .005, .001]\n",
        "m = [0, 0.2, 0.5, 0.7, 0.9, 1]\n",
        "for lr in lr_list:\n",
        "  for momentum in m:\n",
        "    test_model = CNN()\n",
        "    test_model_sgd = CNN()\n",
        "    print()\n",
        "    print('lr: ',lr, 'm: ', momentum)\n",
        "    print()\n",
        "    print('rms: ')\n",
        "    rms_opt = torch.optim.RMSprop(test_model.parameters(),lr = lr, momentum = momentum)\n",
        "    train(test_model, rms_opt,train_loader, epochs = 3)\n",
        "\n",
        "    print()\n",
        "    print('sgd: ')\n",
        "    sgd_opt = torch.optim.SGD(test_model_sgd.parameters(), lr = lr, momentum = momentum)\n",
        "    train(test_model_sgd, sgd_opt,train_loader, epochs = 3)"
      ],
      "metadata": {
        "colab": {
          "base_uri": "https://localhost:8080/"
        },
        "id": "-XEiUqIW9Zzo",
        "outputId": "9b8c194d-03f6-450b-bf0d-8675aaace3ea"
      },
      "execution_count": null,
      "outputs": [
        {
          "output_type": "stream",
          "name": "stdout",
          "text": [
            "\n",
            "lr:  0.1 m:  0\n",
            "\n",
            "rms: \n",
            "Epoch [1/3] Loss: 13.555278778076172\n",
            "Epoch [2/3] Loss: 1.0184110403060913\n",
            "Epoch [3/3] Loss: 0.9063370227813721\n",
            "Accuracy on train set: 41.46606827145383%\n",
            "training time: 6.920264848073324 minutes\n",
            "\n",
            "sgd: \n",
            "Epoch [1/3] Loss: 1.0303053855895996\n",
            "Epoch [2/3] Loss: 1.0786495208740234\n",
            "Epoch [3/3] Loss: 1.1550923585891724\n",
            "Accuracy on train set: 46.28042975656195%\n",
            "training time: 6.907593750953675 minutes\n",
            "\n",
            "lr:  0.1 m:  0.2\n",
            "\n",
            "rms: \n",
            "Epoch [1/3] Loss: 1.1435507535934448\n",
            "Epoch [2/3] Loss: 1.1153810024261475\n",
            "Epoch [3/3] Loss: 0.929461658000946\n",
            "Accuracy on train set: 42.89405684754522%\n",
            "training time: 6.825949664910635 minutes\n",
            "\n",
            "sgd: \n",
            "Epoch [1/3] Loss: 1.0297670364379883\n",
            "Epoch [2/3] Loss: 1.0072033405303955\n",
            "Epoch [3/3] Loss: 0.6692429780960083\n",
            "Accuracy on train set: 53.32517339861281%\n",
            "training time: 6.913746984799703 minutes\n",
            "\n",
            "lr:  0.1 m:  0.5\n",
            "\n",
            "rms: \n",
            "Epoch [1/3] Loss: 3.297140121459961\n",
            "Epoch [2/3] Loss: 1.3284817934036255\n",
            "Epoch [3/3] Loss: 1.7990971803665161\n",
            "Accuracy on train set: 39.9156806745546%\n",
            "training time: 6.825106132030487 minutes\n",
            "\n",
            "sgd: \n",
            "Epoch [1/3] Loss: 0.8958832621574402\n",
            "Epoch [2/3] Loss: 1.0389422178268433\n",
            "Epoch [3/3] Loss: 0.9644961953163147\n",
            "Accuracy on train set: 51.312389500883995%\n",
            "training time: 6.81017982562383 minutes\n",
            "\n",
            "lr:  0.1 m:  0.7\n",
            "\n",
            "rms: \n",
            "Epoch [1/3] Loss: 38.5315055847168\n",
            "Epoch [2/3] Loss: 1.2423750162124634\n",
            "Epoch [3/3] Loss: 1.0756791830062866\n",
            "Accuracy on train set: 42.064463484292126%\n",
            "training time: 6.935942196846009 minutes\n",
            "\n",
            "sgd: \n",
            "Epoch [1/3] Loss: 1.1170225143432617\n",
            "Epoch [2/3] Loss: 0.9723114371299744\n",
            "Epoch [3/3] Loss: 0.6952780485153198\n",
            "Accuracy on train set: 51.92438460492316%\n",
            "training time: 6.887603994210561 minutes\n",
            "\n",
            "lr:  0.1 m:  0.9\n",
            "\n",
            "rms: \n",
            "Epoch [1/3] Loss: 177.23345947265625\n",
            "Epoch [2/3] Loss: 7.162440299987793\n",
            "Epoch [3/3] Loss: 1.120247483253479\n",
            "Accuracy on train set: 36.62450700394397%\n",
            "training time: 7.004783376057943 minutes\n",
            "\n",
            "sgd: \n",
            "Epoch [1/3] Loss: 0.7847464680671692\n",
            "Epoch [2/3] Loss: 0.7805936932563782\n",
            "Epoch [3/3] Loss: 0.680044412612915\n",
            "Accuracy on train set: 53.58357133142935%\n",
            "training time: 6.849531400203705 minutes\n",
            "\n",
            "lr:  0.1 m:  1\n",
            "\n",
            "rms: \n",
            "Epoch [1/3] Loss: 13367.044921875\n",
            "Epoch [2/3] Loss: 115.8381118774414\n",
            "Epoch [3/3] Loss: 131.8412628173828\n",
            "Accuracy on train set: 38.14769481844145%\n",
            "training time: 6.78135101000468 minutes\n",
            "\n",
            "sgd: \n",
            "Epoch [1/3] Loss: 1.0358821153640747\n",
            "Epoch [2/3] Loss: 1.0169821977615356\n",
            "Epoch [3/3] Loss: 1.098748803138733\n",
            "Accuracy on train set: 48.14361485108119%\n",
            "training time: 6.299327695369721 minutes\n",
            "\n",
            "lr:  0.05 m:  0\n",
            "\n",
            "rms: \n",
            "Epoch [1/3] Loss: 1.0310511589050293\n",
            "Epoch [2/3] Loss: 1.184118628501892\n",
            "Epoch [3/3] Loss: 0.5861071348190308\n",
            "Accuracy on train set: 58.16673466612267%\n",
            "training time: 6.321442166964213 minutes\n",
            "\n",
            "sgd: \n",
            "Epoch [1/3] Loss: 1.0574220418930054\n",
            "Epoch [2/3] Loss: 1.127801537513733\n",
            "Epoch [3/3] Loss: 1.152313470840454\n",
            "Accuracy on train set: 45.09723922208622%\n",
            "training time: 6.377921124299367 minutes\n",
            "\n",
            "lr:  0.05 m:  0.2\n",
            "\n",
            "rms: \n",
            "Epoch [1/3] Loss: 1.0286626815795898\n",
            "Epoch [2/3] Loss: 0.973771333694458\n",
            "Epoch [3/3] Loss: 1.0475883483886719\n",
            "Accuracy on train set: 46.919624643002855%\n",
            "training time: 6.272519922256469 minutes\n",
            "\n",
            "sgd: \n",
            "Epoch [1/3] Loss: 1.064157485961914\n",
            "Epoch [2/3] Loss: 1.0053436756134033\n",
            "Epoch [3/3] Loss: 0.9281442761421204\n",
            "Accuracy on train set: 45.85883312933497%\n",
            "training time: 6.478576338291168 minutes\n",
            "\n",
            "lr:  0.05 m:  0.5\n",
            "\n",
            "rms: \n",
            "Epoch [1/3] Loss: 1.1095662117004395\n",
            "Epoch [2/3] Loss: 1.3640108108520508\n",
            "Epoch [3/3] Loss: 1.1273304224014282\n",
            "Accuracy on train set: 41.058071535427715%\n",
            "training time: 6.25883739789327 minutes\n",
            "\n",
            "sgd: \n",
            "Epoch [1/3] Loss: 1.049302339553833\n",
            "Epoch [2/3] Loss: 0.939264714717865\n",
            "Epoch [3/3] Loss: 0.6638631820678711\n",
            "Accuracy on train set: 50.78199374405005%\n",
            "training time: 6.238836558659871 minutes\n",
            "\n",
            "lr:  0.05 m:  0.7\n",
            "\n",
            "rms: \n",
            "Epoch [1/3] Loss: 462.826171875\n",
            "Epoch [2/3] Loss: 2.9150819778442383\n",
            "Epoch [3/3] Loss: 59.47024154663086\n",
            "Accuracy on train set: 40.17407860737114%\n",
            "training time: 6.5331043124198915 minutes\n",
            "\n",
            "sgd: \n",
            "Epoch [1/3] Loss: 0.9395122528076172\n",
            "Epoch [2/3] Loss: 1.007311224937439\n",
            "Epoch [3/3] Loss: 1.04072904586792\n",
            "Accuracy on train set: 48.85080919352645%\n",
            "training time: 6.792199170589447 minutes\n",
            "\n",
            "lr:  0.05 m:  0.9\n",
            "\n",
            "rms: \n",
            "Epoch [1/3] Loss: 16.598295211791992\n",
            "Epoch [2/3] Loss: 14.173842430114746\n",
            "Epoch [3/3] Loss: 1.3558954000473022\n",
            "Accuracy on train set: 36.73330613355093%\n",
            "training time: 6.5814394156138105 minutes\n",
            "\n",
            "sgd: \n",
            "Epoch [1/3] Loss: 1.1252686977386475\n",
            "Epoch [2/3] Loss: 0.9806235432624817\n",
            "Epoch [3/3] Loss: 1.275115966796875\n",
            "Accuracy on train set: 50.727594179246566%\n",
            "training time: 6.627135296662648 minutes\n",
            "\n",
            "lr:  0.05 m:  1\n",
            "\n",
            "rms: \n",
            "Epoch [1/3] Loss: 152693.09375\n",
            "Epoch [2/3] Loss: 115625.7265625\n",
            "Epoch [3/3] Loss: 863129.5\n",
            "Accuracy on train set: 37.141302869577046%\n",
            "training time: 6.292621417840322 minutes\n",
            "\n",
            "sgd: \n",
            "Epoch [1/3] Loss: 1.100468635559082\n",
            "Epoch [2/3] Loss: 0.8105666041374207\n",
            "Epoch [3/3] Loss: 1.6298609972000122\n",
            "Accuracy on train set: 52.93077655378757%\n",
            "training time: 6.250528037548065 minutes\n",
            "\n",
            "lr:  0.01 m:  0\n",
            "\n",
            "rms: \n",
            "Epoch [1/3] Loss: 0.9927701354026794\n",
            "Epoch [2/3] Loss: 0.7161246538162231\n",
            "Epoch [3/3] Loss: 0.7528110146522522\n",
            "Accuracy on train set: 58.71073031415749%\n",
            "training time: 6.215705772240956 minutes\n",
            "\n",
            "sgd: \n",
            "Epoch [1/3] Loss: 1.0918346643447876\n",
            "Epoch [2/3] Loss: 1.0979381799697876\n",
            "Epoch [3/3] Loss: 1.0648208856582642\n",
            "Accuracy on train set: 46.552427580579355%\n",
            "training time: 6.25802651643753 minutes\n",
            "\n",
            "lr:  0.01 m:  0.2\n",
            "\n",
            "rms: \n",
            "Epoch [1/3] Loss: 1.0781141519546509\n",
            "Epoch [2/3] Loss: 0.9416239857673645\n",
            "Epoch [3/3] Loss: 0.9106094837188721\n",
            "Accuracy on train set: 47.89881680946552%\n",
            "training time: 6.624146886666616 minutes\n",
            "\n",
            "sgd: \n",
            "Epoch [1/3] Loss: 1.0714390277862549\n",
            "Epoch [2/3] Loss: 1.0955684185028076\n",
            "Epoch [3/3] Loss: 1.0626128911972046\n",
            "Accuracy on train set: 46.552427580579355%\n",
            "training time: 6.451879322528839 minutes\n",
            "\n",
            "lr:  0.01 m:  0.5\n",
            "\n",
            "rms: \n",
            "Epoch [1/3] Loss: 1.0728709697723389\n",
            "Epoch [2/3] Loss: 0.9858454465866089\n",
            "Epoch [3/3] Loss: 1.0523241758346558\n",
            "Accuracy on train set: 46.171630626954986%\n",
            "training time: 6.058259280522664 minutes\n",
            "\n",
            "sgd: \n",
            "Epoch [1/3] Loss: 1.0539344549179077\n",
            "Epoch [2/3] Loss: 1.121195912361145\n",
            "Epoch [3/3] Loss: 0.9872434735298157\n",
            "Accuracy on train set: 43.111655106759144%\n",
            "training time: 6.213181682427725 minutes\n",
            "\n",
            "lr:  0.01 m:  0.7\n",
            "\n",
            "rms: \n",
            "Epoch [1/3] Loss: 1.0353009700775146\n",
            "Epoch [2/3] Loss: 1.2780448198318481\n",
            "Epoch [3/3] Loss: 1.0408588647842407\n",
            "Accuracy on train set: 46.30762953896369%\n",
            "training time: 6.410989578564962 minutes\n",
            "\n",
            "sgd: \n",
            "Epoch [1/3] Loss: 1.0661219358444214\n",
            "Epoch [2/3] Loss: 1.0914396047592163\n",
            "Epoch [3/3] Loss: 1.0797882080078125\n",
            "Accuracy on train set: 46.552427580579355%\n",
            "training time: 6.43677659034729 minutes\n",
            "\n",
            "lr:  0.01 m:  0.9\n",
            "\n",
            "rms: \n",
            "Epoch [1/3] Loss: 0.9087027311325073\n",
            "Epoch [2/3] Loss: 1.3747574090957642\n",
            "Epoch [3/3] Loss: 1.1859275102615356\n",
            "Accuracy on train set: 37.46770025839793%\n",
            "training time: 6.419104385375976 minutes\n",
            "\n",
            "sgd: \n",
            "Epoch [1/3] Loss: 1.1836038827896118\n",
            "Epoch [2/3] Loss: 1.0799148082733154\n",
            "Epoch [3/3] Loss: 0.9947182536125183\n",
            "Accuracy on train set: 45.151638786889706%\n",
            "training time: 6.4646053592363995 minutes\n",
            "\n",
            "lr:  0.01 m:  1\n",
            "\n",
            "rms: \n",
            "Epoch [1/3] Loss: 1.859866738319397\n",
            "Epoch [2/3] Loss: 2.418294668197632\n",
            "Epoch [3/3] Loss: 2.4407076835632324\n",
            "Accuracy on train set: 35.06051951584387%\n",
            "training time: 6.426138997077942 minutes\n",
            "\n",
            "sgd: \n",
            "Epoch [1/3] Loss: 1.0700222253799438\n",
            "Epoch [2/3] Loss: 1.007126808166504\n",
            "Epoch [3/3] Loss: 1.0099053382873535\n",
            "Accuracy on train set: 45.02923976608187%\n",
            "training time: 6.465877664089203 minutes\n",
            "\n",
            "lr:  0.005 m:  0\n",
            "\n",
            "rms: \n",
            "Epoch [1/3] Loss: 1.0391558408737183\n",
            "Epoch [2/3] Loss: 0.9523837566375732\n",
            "Epoch [3/3] Loss: 0.605536699295044\n",
            "Accuracy on train set: 55.59635522915816%\n",
            "training time: 6.407371401786804 minutes\n",
            "\n",
            "sgd: \n",
            "Epoch [1/3] Loss: 1.0737955570220947\n",
            "Epoch [2/3] Loss: 1.0575425624847412\n",
            "Epoch [3/3] Loss: 1.1315217018127441\n",
            "Accuracy on train set: 36.7469060247518%\n",
            "training time: 6.428741157054901 minutes\n",
            "\n",
            "lr:  0.005 m:  0.2\n",
            "\n",
            "rms: \n",
            "Epoch [1/3] Loss: 1.1068384647369385\n",
            "Epoch [2/3] Loss: 0.7808120250701904\n",
            "Epoch [3/3] Loss: 0.8022486567497253\n",
            "Accuracy on train set: 47.83081735346117%\n",
            "training time: 6.453162284692128 minutes\n",
            "\n",
            "sgd: \n",
            "Epoch [1/3] Loss: 1.0918656587600708\n",
            "Epoch [2/3] Loss: 1.0700554847717285\n",
            "Epoch [3/3] Loss: 1.0905650854110718\n",
            "Accuracy on train set: 42.812457500339995%\n",
            "training time: 6.427903056144714 minutes\n",
            "\n",
            "lr:  0.005 m:  0.5\n",
            "\n",
            "rms: \n",
            "Epoch [1/3] Loss: 1.070847749710083\n",
            "Epoch [2/3] Loss: 1.142167568206787\n",
            "Epoch [3/3] Loss: 0.5090327262878418\n",
            "Accuracy on train set: 49.7484020127839%\n",
            "training time: 6.414651894569397 minutes\n",
            "\n",
            "sgd: \n",
            "Epoch [1/3] Loss: 1.0840812921524048\n",
            "Epoch [2/3] Loss: 1.0980653762817383\n",
            "Epoch [3/3] Loss: 0.96981281042099\n",
            "Accuracy on train set: 43.50605195158439%\n",
            "training time: 6.463697417577108 minutes\n",
            "\n",
            "lr:  0.005 m:  0.7\n",
            "\n",
            "rms: \n",
            "Epoch [1/3] Loss: 1.0666404962539673\n",
            "Epoch [2/3] Loss: 1.120031714439392\n",
            "Epoch [3/3] Loss: 1.136435627937317\n",
            "Accuracy on train set: 45.50523595811234%\n",
            "training time: 6.451170750459036 minutes\n",
            "\n",
            "sgd: \n",
            "Epoch [1/3] Loss: 1.0266257524490356\n",
            "Epoch [2/3] Loss: 1.165473461151123\n",
            "Epoch [3/3] Loss: 0.9749152660369873\n",
            "Accuracy on train set: 46.185230518155855%\n",
            "training time: 6.620783710479737 minutes\n",
            "\n",
            "lr:  0.005 m:  0.9\n",
            "\n",
            "rms: \n",
            "Epoch [1/3] Loss: 0.9181430339813232\n",
            "Epoch [2/3] Loss: 1.0276412963867188\n",
            "Epoch [3/3] Loss: 0.9786680340766907\n",
            "Accuracy on train set: 41.724466204270364%\n",
            "training time: 6.553290013472239 minutes\n",
            "\n",
            "sgd: \n",
            "Epoch [1/3] Loss: 1.106053352355957\n",
            "Epoch [2/3] Loss: 1.0450468063354492\n",
            "Epoch [3/3] Loss: 0.9917159080505371\n",
            "Accuracy on train set: 46.52522779817762%\n",
            "training time: 6.535514756043752 minutes\n",
            "\n",
            "lr:  0.005 m:  1\n",
            "\n",
            "rms: \n",
            "Epoch [1/3] Loss: 17.089651107788086\n",
            "Epoch [2/3] Loss: 87.28794860839844\n",
            "Epoch [3/3] Loss: 19.524320602416992\n",
            "Accuracy on train set: 36.570107439140486%\n",
            "training time: 6.438437271118164 minutes\n",
            "\n",
            "sgd: \n",
            "Epoch [1/3] Loss: 1.2173858880996704\n",
            "Epoch [2/3] Loss: 1.1070770025253296\n",
            "Epoch [3/3] Loss: 1.1480138301849365\n",
            "Accuracy on train set: 46.64762681898545%\n",
            "training time: 6.578999141852061 minutes\n",
            "\n",
            "lr:  0.001 m:  0\n",
            "\n",
            "rms: \n",
            "Epoch [1/3] Loss: 0.8217110633850098\n",
            "Epoch [2/3] Loss: 0.5742052793502808\n",
            "Epoch [3/3] Loss: 0.42150869965553284\n",
            "Accuracy on train set: 66.46266829865361%\n",
            "training time: 6.635862441857656 minutes\n",
            "\n",
            "sgd: \n",
            "Epoch [1/3] Loss: 1.0962481498718262\n",
            "Epoch [2/3] Loss: 1.112554907798767\n",
            "Epoch [3/3] Loss: 1.109288215637207\n",
            "Accuracy on train set: 22.997416020671835%\n",
            "training time: 6.36414281129837 minutes\n",
            "\n",
            "lr:  0.001 m:  0.2\n",
            "\n",
            "rms: \n",
            "Epoch [1/3] Loss: 0.9550153613090515\n",
            "Epoch [2/3] Loss: 0.8667187690734863\n",
            "Epoch [3/3] Loss: 0.7993219494819641\n",
            "Accuracy on train set: 59.49952400380797%\n",
            "training time: 6.37717129389445 minutes\n",
            "\n",
            "sgd: \n",
            "Epoch [1/3] Loss: 1.0732475519180298\n",
            "Epoch [2/3] Loss: 1.0703283548355103\n",
            "Epoch [3/3] Loss: 1.1049158573150635\n",
            "Accuracy on train set: 46.552427580579355%\n",
            "training time: 6.25479961236318 minutes\n",
            "\n",
            "lr:  0.001 m:  0.5\n",
            "\n",
            "rms: \n",
            "Epoch [1/3] Loss: 0.9851381182670593\n",
            "Epoch [2/3] Loss: 0.603158712387085\n",
            "Epoch [3/3] Loss: 0.49376538395881653\n",
            "Accuracy on train set: 60.342717258261935%\n",
            "training time: 6.386955122152965 minutes\n",
            "\n",
            "sgd: \n",
            "Epoch [1/3] Loss: 1.118308663368225\n",
            "Epoch [2/3] Loss: 1.105960488319397\n",
            "Epoch [3/3] Loss: 1.084265112876892\n",
            "Accuracy on train set: 23.21501427988576%\n",
            "training time: 6.629233324527741 minutes\n",
            "\n",
            "lr:  0.001 m:  0.7\n",
            "\n",
            "rms: \n",
            "Epoch [1/3] Loss: 0.5342311859130859\n",
            "Epoch [2/3] Loss: 0.8046104311943054\n",
            "Epoch [3/3] Loss: 0.34602057933807373\n",
            "Accuracy on train set: 68.7202502379981%\n",
            "training time: 6.49139229853948 minutes\n",
            "\n",
            "sgd: \n",
            "Epoch [1/3] Loss: 1.1066620349884033\n",
            "Epoch [2/3] Loss: 1.100852370262146\n",
            "Epoch [3/3] Loss: 1.103410005569458\n",
            "Accuracy on train set: 28.260573915408678%\n",
            "training time: 6.167537975311279 minutes\n",
            "\n",
            "lr:  0.001 m:  0.9\n",
            "\n",
            "rms: \n",
            "Epoch [1/3] Loss: 1.0425357818603516\n",
            "Epoch [2/3] Loss: 1.0608563423156738\n",
            "Epoch [3/3] Loss: 1.0277671813964844\n",
            "Accuracy on train set: 45.899632802937575%\n",
            "training time: 6.209030989805857 minutes\n",
            "\n",
            "sgd: \n",
            "Epoch [1/3] Loss: 1.0930233001708984\n",
            "Epoch [2/3] Loss: 1.0804588794708252\n",
            "Epoch [3/3] Loss: 1.0641732215881348\n",
            "Accuracy on train set: 39.16768665850673%\n",
            "training time: 6.316640261809031 minutes\n",
            "\n",
            "lr:  0.001 m:  1\n",
            "\n",
            "rms: \n",
            "Epoch [1/3] Loss: 1.0421541929244995\n",
            "Epoch [2/3] Loss: 1.266561508178711\n",
            "Epoch [3/3] Loss: 0.8615322113037109\n",
            "Accuracy on train set: 38.96368829049368%\n",
            "training time: 6.06726594765981 minutes\n",
            "\n",
            "sgd: \n",
            "Epoch [1/3] Loss: 1.0777043104171753\n",
            "Epoch [2/3] Loss: 1.1615396738052368\n",
            "Epoch [3/3] Loss: 1.001204490661621\n",
            "Accuracy on train set: 43.00285597715218%\n",
            "training time: 6.281970512866974 minutes\n"
          ]
        }
      ]
    },
    {
      "cell_type": "code",
      "execution_count": null,
      "metadata": {
        "id": "c3O8ipfE8i47"
      },
      "outputs": [],
      "source": [
        "adam_lr = .001\n",
        "nadam_lr = .002"
      ]
    },
    {
      "cell_type": "code",
      "execution_count": null,
      "metadata": {
        "colab": {
          "base_uri": "https://localhost:8080/"
        },
        "id": "4iTsDBZ_HCRX",
        "outputId": "64a385fd-7ebe-47c2-8da6-0c4b1a58f36b"
      },
      "outputs": [
        {
          "name": "stderr",
          "output_type": "stream",
          "text": [
            "/usr/local/lib/python3.10/dist-packages/torch/utils/data/dataloader.py:557: UserWarning: This DataLoader will create 12 worker processes in total. Our suggested max number of worker in current system is 2, which is smaller than what this DataLoader is going to create. Please be aware that excessive worker creation might get DataLoader running slow or even freeze, lower the worker number to avoid potential slowness/freeze if necessary.\n",
            "  warnings.warn(_create_warning_msg(\n"
          ]
        },
        {
          "name": "stdout",
          "output_type": "stream",
          "text": [
            "Epoch [1/10] Loss: 1.0718774795532227\n",
            "Epoch [2/10] Loss: 0.6986547112464905\n",
            "Epoch [3/10] Loss: 0.609900951385498\n",
            "Epoch [4/10] Loss: 0.30435094237327576\n",
            "Epoch [5/10] Loss: 0.43053752183914185\n",
            "Epoch [6/10] Loss: 0.597509503364563\n",
            "Epoch [7/10] Loss: 0.6480781435966492\n",
            "Epoch [8/10] Loss: 0.6270651817321777\n",
            "Epoch [9/10] Loss: 0.3452615737915039\n",
            "Epoch [10/10] Loss: 0.2694973051548004\n",
            "Accuracy on train set: 75.84251325989392%\n",
            "training time: 21.627575071652732 minutes\n"
          ]
        }
      ],
      "source": [
        "model = CNN()\n",
        "adam_opt_v2 = torch.optim.Adam(model.parameters(), lr = nadam_lr)\n",
        "adam_model_v2 = train(model, adam_opt_v2,train_loader, epochs = 10)"
      ]
    },
    {
      "cell_type": "code",
      "execution_count": null,
      "metadata": {
        "id": "BjMpnSdYHk7w"
      },
      "outputs": [],
      "source": [
        "modelSave(adam_model_v2, model_names[0]+'_V2')"
      ]
    },
    {
      "cell_type": "code",
      "execution_count": null,
      "metadata": {
        "colab": {
          "base_uri": "https://localhost:8080/",
          "height": 683
        },
        "id": "WOfE0pF2H3Q2",
        "outputId": "94eee3de-24d1-4b87-d188-2f5059f31db7"
      },
      "outputs": [
        {
          "name": "stderr",
          "output_type": "stream",
          "text": [
            "/usr/local/lib/python3.10/dist-packages/torch/utils/data/dataloader.py:557: UserWarning: This DataLoader will create 12 worker processes in total. Our suggested max number of worker in current system is 2, which is smaller than what this DataLoader is going to create. Please be aware that excessive worker creation might get DataLoader running slow or even freeze, lower the worker number to avoid potential slowness/freeze if necessary.\n",
            "  warnings.warn(_create_warning_msg(\n"
          ]
        },
        {
          "name": "stdout",
          "output_type": "stream",
          "text": [
            "Accuracy on test set: 82.05546569824219%\n",
            "F1 score on test set: 0.8218720408103273\n",
            "Log Loss on test set: 0.4116732112476312\n"
          ]
        },
        {
          "data": {
            "image/png": "[encoded data removed]",
            "text/plain": [
              "<Figure size 640x480 with 2 Axes>"
            ]
          },
          "metadata": {},
          "output_type": "display_data"
        },
        {
          "data": {
            "text/plain": [
              "(array([[106,  19,  14],\n",
              "        [ 56, 215,  14],\n",
              "        [  4,   3, 182]]),\n",
              " tensor(82.0555),\n",
              " 0.8218720408103273,\n",
              " 0.4116732112476312)"
            ]
          },
          "execution_count": 23,
          "metadata": {},
          "output_type": "execute_result"
        }
      ],
      "source": [
        "test(adam_model_v2, test_loader, model_name = 'Adam_Model_V2', display = True)"
      ]
    },
    {
      "cell_type": "code",
      "execution_count": null,
      "metadata": {
        "colab": {
          "base_uri": "https://localhost:8080/"
        },
        "id": "cn0I91YEIAGn",
        "outputId": "cab06fbf-48d8-4294-90cc-c6c830d54c27"
      },
      "outputs": [
        {
          "output_type": "stream",
          "name": "stdout",
          "text": [
            "Epoch [1/10] Loss: 0.7525413632392883\n",
            "Epoch [2/10] Loss: 0.6454053521156311\n",
            "Epoch [3/10] Loss: 0.7346029877662659\n",
            "Epoch [4/10] Loss: 0.5190042853355408\n",
            "Epoch [5/10] Loss: 0.4292271137237549\n",
            "Epoch [6/10] Loss: 0.78070467710495\n",
            "Epoch [7/10] Loss: 0.3358505368232727\n",
            "Epoch [8/10] Loss: 0.36749884486198425\n",
            "Epoch [9/10] Loss: 0.24040871858596802\n",
            "Epoch [10/10] Loss: 0.4658498167991638\n",
            "Accuracy on train set: 74.27172582619339%\n",
            "training time: 19.97337988615036 minutes\n"
          ]
        }
      ],
      "source": [
        "model_1 = CNN()\n",
        "Nadam_opt_v2 = torch.optim.NAdam(model_1.parameters(), lr = adam_lr)\n",
        "Nadam_model_v2 = train(model_1, Nadam_opt_v2,train_loader, epochs = 10)"
      ]
    },
    {
      "cell_type": "code",
      "execution_count": null,
      "metadata": {
        "id": "qyjL1ajSIVBJ"
      },
      "outputs": [],
      "source": [
        "modelSave(Nadam_model_v2, model_names[1]+'_V2')"
      ]
    },
    {
      "cell_type": "code",
      "execution_count": null,
      "metadata": {
        "id": "GZTCuQQaIbJT",
        "colab": {
          "base_uri": "https://localhost:8080/",
          "height": 628
        },
        "outputId": "68756a6c-5335-4a6b-c1f9-8753ca434657"
      },
      "outputs": [
        {
          "output_type": "stream",
          "name": "stdout",
          "text": [
            "Accuracy on test set: 75.8564453125%\n",
            "F1 score on test set: 0.7738247361365805\n",
            "Log Loss on test set: 0.5604738510252941\n"
          ]
        },
        {
          "output_type": "display_data",
          "data": {
            "text/plain": [
              "<Figure size 640x480 with 2 Axes>"
            ],
            "image/png": "[encoded data removed]"
          },
          "metadata": {}
        },
        {
          "output_type": "execute_result",
          "data": {
            "text/plain": [
              "(array([[126,   9,   4],\n",
              "        [ 83, 198,   4],\n",
              "        [ 43,   5, 141]]),\n",
              " tensor(75.8564),\n",
              " 0.7738247361365805,\n",
              " 0.5604738510252941)"
            ]
          },
          "metadata": {},
          "execution_count": 41
        }
      ],
      "source": [
        "test(Nadam_model_v2, test_loader, model_name = 'NAdam_Model_V2', display = True)"
      ]
    },
    {
      "cell_type": "code",
      "execution_count": null,
      "metadata": {
        "id": "8Hxa-G1_JGeF",
        "colab": {
          "base_uri": "https://localhost:8080/"
        },
        "outputId": "11695180-7b95-484d-a6d8-2b19ff4cafbc"
      },
      "outputs": [
        {
          "output_type": "stream",
          "name": "stderr",
          "text": [
            "/usr/local/lib/python3.10/dist-packages/torch/utils/data/dataloader.py:557: UserWarning: This DataLoader will create 12 worker processes in total. Our suggested max number of worker in current system is 2, which is smaller than what this DataLoader is going to create. Please be aware that excessive worker creation might get DataLoader running slow or even freeze, lower the worker number to avoid potential slowness/freeze if necessary.\n",
            "  warnings.warn(_create_warning_msg(\n"
          ]
        },
        {
          "output_type": "stream",
          "name": "stdout",
          "text": [
            "Epoch [1/10] Loss: 1.0979609489440918\n",
            "Epoch [2/10] Loss: 1.1093642711639404\n",
            "Epoch [3/10] Loss: 1.074414849281311\n",
            "Epoch [4/10] Loss: 1.0773251056671143\n",
            "Epoch [5/10] Loss: 1.1091340780258179\n",
            "Epoch [6/10] Loss: 1.0915738344192505\n",
            "Epoch [7/10] Loss: 1.0946732759475708\n",
            "Epoch [8/10] Loss: 1.0835018157958984\n",
            "Epoch [9/10] Loss: 1.0935965776443481\n",
            "Epoch [10/10] Loss: 1.0826475620269775\n",
            "Accuracy on train set: 43.88820889432885%\n",
            "training time: 18.085606149832408 minutes\n"
          ]
        }
      ],
      "source": [
        "model_2 = CNN()\n",
        "sgd_opt_v2 = torch.optim.SGD(model_2.parameters(), lr = adam_lr)\n",
        "sgd_model_v2 = train(model_2, sgd_opt_v2,train_loader, epochs = 10)"
      ]
    },
    {
      "cell_type": "code",
      "execution_count": null,
      "metadata": {
        "id": "2FiSxzcyJMAI"
      },
      "outputs": [],
      "source": [
        "modelSave(sgd_model_v2, model_names[2]+'_V2')"
      ]
    },
    {
      "cell_type": "code",
      "source": [
        "sgd_model_v2 = modelLoad(model_names[2]+'_V2')"
      ],
      "metadata": {
        "id": "Kyfz1Th0l-uY"
      },
      "execution_count": null,
      "outputs": []
    },
    {
      "cell_type": "code",
      "execution_count": null,
      "metadata": {
        "id": "Qm2XBGDXJQMC",
        "colab": {
          "base_uri": "https://localhost:8080/",
          "height": 628
        },
        "outputId": "cc2dfb9f-53db-4f45-b613-dc03e8f2eee9"
      },
      "outputs": [
        {
          "output_type": "stream",
          "name": "stdout",
          "text": [
            "Accuracy on test set: 46.49266052246094%\n",
            "F1 score on test set: 0.29510930579827566\n",
            "Log Loss on test set: 1.0854048493298507\n"
          ]
        },
        {
          "output_type": "display_data",
          "data": {
            "text/plain": [
              "<Figure size 640x480 with 2 Axes>"
            ],
            "image/png": "[encoded data removed]"
          },
          "metadata": {}
        },
        {
          "output_type": "execute_result",
          "data": {
            "text/plain": [
              "(array([[  0, 139,   0],\n",
              "        [  0, 285,   0],\n",
              "        [  0, 189,   0]]),\n",
              " tensor(46.4927),\n",
              " 0.29510930579827566,\n",
              " 1.0854048493298507)"
            ]
          },
          "metadata": {},
          "execution_count": 23
        }
      ],
      "source": [
        "test(sgd_model_v2, test_loader, model_name = 'SGD_Model_V2', display = True)"
      ]
    },
    {
      "cell_type": "code",
      "source": [
        "model_2 = CNN()\n",
        "sgd_opt_v3 = torch.optim.SGD(model_2.parameters(), lr = nadam_lr)\n",
        "sgd_model_v3 = train(model_2, sgd_opt_v3,train_loader, epochs = 10)"
      ],
      "metadata": {
        "colab": {
          "base_uri": "https://localhost:8080/"
        },
        "id": "sHylHDzlcHnV",
        "outputId": "b1091cbe-7a5c-4e80-a9e7-386bfa9a638d"
      },
      "execution_count": null,
      "outputs": [
        {
          "output_type": "stream",
          "name": "stderr",
          "text": [
            "/usr/local/lib/python3.10/dist-packages/torch/utils/data/dataloader.py:557: UserWarning: This DataLoader will create 12 worker processes in total. Our suggested max number of worker in current system is 2, which is smaller than what this DataLoader is going to create. Please be aware that excessive worker creation might get DataLoader running slow or even freeze, lower the worker number to avoid potential slowness/freeze if necessary.\n",
            "  warnings.warn(_create_warning_msg(\n"
          ]
        },
        {
          "output_type": "stream",
          "name": "stdout",
          "text": [
            "Epoch [1/10] Loss: 1.1001545190811157\n",
            "Epoch [2/10] Loss: 1.0900547504425049\n",
            "Epoch [3/10] Loss: 1.0621795654296875\n",
            "Epoch [4/10] Loss: 1.082506775856018\n",
            "Epoch [5/10] Loss: 1.0881630182266235\n",
            "Epoch [6/10] Loss: 1.0617259740829468\n",
            "Epoch [7/10] Loss: 1.0701149702072144\n",
            "Epoch [8/10] Loss: 1.0404309034347534\n",
            "Epoch [9/10] Loss: 1.0779153108596802\n",
            "Epoch [10/10] Loss: 1.0302562713623047\n",
            "Accuracy on train set: 46.552427580579355%\n",
            "training time: 17.918689652283987 minutes\n"
          ]
        }
      ]
    },
    {
      "cell_type": "code",
      "source": [
        "modelSave(sgd_model_v3, model_names[2]+'_V3')"
      ],
      "metadata": {
        "id": "R8XGHgd7cOrc"
      },
      "execution_count": null,
      "outputs": []
    },
    {
      "cell_type": "code",
      "source": [
        "sgd_model_v3 = modelLoad(model_names[2]+'_V3')"
      ],
      "metadata": {
        "id": "fmXzHNrLln7V"
      },
      "execution_count": null,
      "outputs": []
    },
    {
      "cell_type": "code",
      "source": [
        "test(sgd_model_v3, test_loader, model_name = 'SGD_Model_V3', display = True)"
      ],
      "metadata": {
        "colab": {
          "base_uri": "https://localhost:8080/",
          "height": 683
        },
        "id": "RGXd-2fEsPdu",
        "outputId": "7719cb0c-235f-40a8-b5e1-6f3f39ce9bd4"
      },
      "execution_count": null,
      "outputs": [
        {
          "output_type": "stream",
          "name": "stderr",
          "text": [
            "/usr/local/lib/python3.10/dist-packages/torch/utils/data/dataloader.py:557: UserWarning: This DataLoader will create 12 worker processes in total. Our suggested max number of worker in current system is 2, which is smaller than what this DataLoader is going to create. Please be aware that excessive worker creation might get DataLoader running slow or even freeze, lower the worker number to avoid potential slowness/freeze if necessary.\n",
            "  warnings.warn(_create_warning_msg(\n"
          ]
        },
        {
          "output_type": "stream",
          "name": "stdout",
          "text": [
            "Accuracy on test set: 46.49266052246094%\n",
            "F1 score on test set: 0.29510930579827566\n",
            "Log Loss on test set: 1.081368318458784\n"
          ]
        },
        {
          "output_type": "display_data",
          "data": {
            "text/plain": [
              "<Figure size 640x480 with 2 Axes>"
            ],
            "image/png": "[encoded data removed]"
          },
          "metadata": {}
        },
        {
          "output_type": "execute_result",
          "data": {
            "text/plain": [
              "(array([[  0, 139,   0],\n",
              "        [  0, 285,   0],\n",
              "        [  0, 189,   0]]),\n",
              " tensor(46.4927),\n",
              " 0.29510930579827566,\n",
              " 1.081368318458784)"
            ]
          },
          "metadata": {},
          "execution_count": 15
        }
      ]
    },
    {
      "cell_type": "code",
      "source": [
        "model_3 = CNN()\n",
        "rmsprop_opt_v2 = torch.optim.RMSprop(model_3.parameters(), lr = adam_lr)\n",
        "rms_model_v2 = train(model_3, rmsprop_opt_v2,train_loader, epochs = 10)"
      ],
      "metadata": {
        "colab": {
          "base_uri": "https://localhost:8080/"
        },
        "id": "K8CGRePosTm8",
        "outputId": "38a96337-d15e-44a4-8fc9-b1c093bb96a1"
      },
      "execution_count": null,
      "outputs": [
        {
          "output_type": "stream",
          "name": "stderr",
          "text": [
            "/usr/local/lib/python3.10/dist-packages/torch/utils/data/dataloader.py:557: UserWarning: This DataLoader will create 12 worker processes in total. Our suggested max number of worker in current system is 2, which is smaller than what this DataLoader is going to create. Please be aware that excessive worker creation might get DataLoader running slow or even freeze, lower the worker number to avoid potential slowness/freeze if necessary.\n",
            "  warnings.warn(_create_warning_msg(\n"
          ]
        },
        {
          "output_type": "stream",
          "name": "stdout",
          "text": [
            "Epoch [1/10] Loss: 1.0168750286102295\n",
            "Epoch [2/10] Loss: 0.6038916110992432\n",
            "Epoch [3/10] Loss: 0.4262261688709259\n",
            "Epoch [4/10] Loss: 0.3290351927280426\n",
            "Epoch [5/10] Loss: 0.4701942503452301\n",
            "Epoch [6/10] Loss: 0.4264986217021942\n",
            "Epoch [7/10] Loss: 0.17363664507865906\n",
            "Epoch [8/10] Loss: 0.38130077719688416\n",
            "Epoch [9/10] Loss: 0.4173947870731354\n",
            "Epoch [10/10] Loss: 0.5496194958686829\n",
            "Accuracy on train set: 78.8576091391269%\n",
            "training time: 20.51218092441559 minutes\n"
          ]
        }
      ]
    },
    {
      "cell_type": "code",
      "source": [
        "modelSave(rms_model_v2, model_names[3]+'V2')"
      ],
      "metadata": {
        "id": "xNTNazz-skd9"
      },
      "execution_count": null,
      "outputs": []
    },
    {
      "cell_type": "code",
      "source": [
        "test(rms_model_v2, test_loader, model_name = 'RMSprop_Model_V2', display = True)"
      ],
      "metadata": {
        "colab": {
          "base_uri": "https://localhost:8080/",
          "height": 683
        },
        "id": "JDNWQWvYsw0B",
        "outputId": "a4fad09a-2e7c-4a61-db84-b0e4e1b3ed48"
      },
      "execution_count": null,
      "outputs": [
        {
          "output_type": "stream",
          "name": "stderr",
          "text": [
            "/usr/local/lib/python3.10/dist-packages/torch/utils/data/dataloader.py:557: UserWarning: This DataLoader will create 12 worker processes in total. Our suggested max number of worker in current system is 2, which is smaller than what this DataLoader is going to create. Please be aware that excessive worker creation might get DataLoader running slow or even freeze, lower the worker number to avoid potential slowness/freeze if necessary.\n",
            "  warnings.warn(_create_warning_msg(\n"
          ]
        },
        {
          "output_type": "stream",
          "name": "stdout",
          "text": [
            "Accuracy on test set: 83.03425598144531%\n",
            "F1 score on test set: 0.834223278125104\n",
            "Log Loss on test set: 0.4244498213927826\n"
          ]
        },
        {
          "output_type": "display_data",
          "data": {
            "text/plain": [
              "<Figure size 640x480 with 2 Axes>"
            ],
            "image/png": "[encoded data removed]"
          },
          "metadata": {}
        },
        {
          "output_type": "execute_result",
          "data": {
            "text/plain": [
              "(array([[128,   5,   6],\n",
              "        [ 65, 205,  15],\n",
              "        [ 12,   1, 176]]),\n",
              " tensor(83.0343),\n",
              " 0.834223278125104,\n",
              " 0.4244498213927826)"
            ]
          },
          "metadata": {},
          "execution_count": 51
        }
      ]
    },
    {
      "cell_type": "code",
      "source": [
        "model_3 = CNN()\n",
        "rmsprop_opt_v3 = torch.optim.RMSprop(model_3.parameters(), lr = nadam_lr)\n",
        "rms_model_v3 = train(model_3, rmsprop_opt_v3,train_loader, epochs = 10)"
      ],
      "metadata": {
        "colab": {
          "base_uri": "https://localhost:8080/"
        },
        "id": "ZY0o4lhus3Ej",
        "outputId": "45e75647-e088-486d-887c-a7f7a1d27456"
      },
      "execution_count": null,
      "outputs": [
        {
          "output_type": "stream",
          "name": "stderr",
          "text": [
            "/usr/local/lib/python3.10/dist-packages/torch/utils/data/dataloader.py:557: UserWarning: This DataLoader will create 12 worker processes in total. Our suggested max number of worker in current system is 2, which is smaller than what this DataLoader is going to create. Please be aware that excessive worker creation might get DataLoader running slow or even freeze, lower the worker number to avoid potential slowness/freeze if necessary.\n",
            "  warnings.warn(_create_warning_msg(\n"
          ]
        },
        {
          "output_type": "stream",
          "name": "stdout",
          "text": [
            "Epoch [1/10] Loss: 0.9990326762199402\n",
            "Epoch [2/10] Loss: 1.0351024866104126\n",
            "Epoch [3/10] Loss: 0.8653057217597961\n",
            "Epoch [4/10] Loss: 0.5204229950904846\n",
            "Epoch [5/10] Loss: 0.6127517819404602\n",
            "Epoch [6/10] Loss: 0.4721401035785675\n",
            "Epoch [7/10] Loss: 0.5066887140274048\n",
            "Epoch [8/10] Loss: 0.491938978433609\n",
            "Epoch [9/10] Loss: 0.2503547966480255\n",
            "Epoch [10/10] Loss: 0.13103275001049042\n",
            "Accuracy on train set: 76.7156262749898%\n",
            "training time: 19.71572517156601 minutes\n"
          ]
        }
      ]
    },
    {
      "cell_type": "code",
      "source": [
        "modelSave(rms_model_v3, model_names[3]+'V3')"
      ],
      "metadata": {
        "id": "l5xSAMRtEI_E"
      },
      "execution_count": null,
      "outputs": []
    },
    {
      "cell_type": "code",
      "source": [
        "test(rms_model_v3, test_loader, model_name = 'RMSprop_Model_V3', display = True)"
      ],
      "metadata": {
        "colab": {
          "base_uri": "https://localhost:8080/",
          "height": 628
        },
        "id": "Mq3o0Y0ks7rI",
        "outputId": "89558df8-e095-49a6-f9be-86f4e05f066a"
      },
      "execution_count": null,
      "outputs": [
        {
          "output_type": "stream",
          "name": "stdout",
          "text": [
            "Accuracy on test set: 83.36051940917969%\n",
            "F1 score on test set: 0.8316889793680539\n",
            "Log Loss on test set: 0.42381296107875455\n"
          ]
        },
        {
          "output_type": "display_data",
          "data": {
            "text/plain": [
              "<Figure size 640x480 with 2 Axes>"
            ],
            "image/png": "[encoded data removed]"
          },
          "metadata": {}
        },
        {
          "output_type": "execute_result",
          "data": {
            "text/plain": [
              "(array([[ 87,  47,   5],\n",
              "        [ 23, 260,   2],\n",
              "        [ 12,  13, 164]]),\n",
              " tensor(83.3605),\n",
              " 0.8316889793680539,\n",
              " 0.42381296107875455)"
            ]
          },
          "metadata": {},
          "execution_count": 53
        }
      ]
    },
    {
      "cell_type": "code",
      "source": [
        "model_3 =CNN()\n",
        "rmsprop_opt_v4 = torch.optim.RMSprop(model_3.parameters(), lr = .005)\n",
        "rms_model_v4 = train(model_3, rmsprop_opt_v4,train_loader, epochs = 10)"
      ],
      "metadata": {
        "colab": {
          "base_uri": "https://localhost:8080/"
        },
        "id": "tmrl9KUvtN56",
        "outputId": "a4b5257d-bb8d-4d9f-c125-6c64c9f2bc00"
      },
      "execution_count": null,
      "outputs": [
        {
          "output_type": "stream",
          "name": "stderr",
          "text": [
            "/usr/local/lib/python3.10/dist-packages/torch/utils/data/dataloader.py:557: UserWarning: This DataLoader will create 12 worker processes in total. Our suggested max number of worker in current system is 2, which is smaller than what this DataLoader is going to create. Please be aware that excessive worker creation might get DataLoader running slow or even freeze, lower the worker number to avoid potential slowness/freeze if necessary.\n",
            "  warnings.warn(_create_warning_msg(\n"
          ]
        },
        {
          "output_type": "stream",
          "name": "stdout",
          "text": [
            "Epoch [1/10] Loss: 1.2137715816497803\n",
            "Epoch [2/10] Loss: 0.6140004396438599\n",
            "Epoch [3/10] Loss: 0.6274464726448059\n",
            "Epoch [4/10] Loss: 0.8400959968566895\n",
            "Epoch [5/10] Loss: 0.44312116503715515\n",
            "Epoch [6/10] Loss: 0.7612949013710022\n",
            "Epoch [7/10] Loss: 0.4702742099761963\n",
            "Epoch [8/10] Loss: 0.28908979892730713\n",
            "Epoch [9/10] Loss: 0.7299573421478271\n",
            "Epoch [10/10] Loss: 0.8025498390197754\n",
            "Accuracy on train set: 70.70175438596492%\n",
            "training time: 19.904526674747466 minutes\n"
          ]
        }
      ]
    },
    {
      "cell_type": "code",
      "source": [
        "modelSave(rms_model_v4, model_names[3]+'V4')"
      ],
      "metadata": {
        "id": "ZW9LYNt0ENV4"
      },
      "execution_count": null,
      "outputs": []
    },
    {
      "cell_type": "code",
      "source": [
        "test(rms_model_v4, test_loader, model_name = 'RMSprop_Model_V4', display = True)"
      ],
      "metadata": {
        "colab": {
          "base_uri": "https://localhost:8080/",
          "height": 683
        },
        "id": "S5TxCKaq2ZO7",
        "outputId": "607277c6-1703-484d-e018-d2e5d2c3061f"
      },
      "execution_count": null,
      "outputs": [
        {
          "output_type": "stream",
          "name": "stderr",
          "text": [
            "/usr/local/lib/python3.10/dist-packages/torch/utils/data/dataloader.py:557: UserWarning: This DataLoader will create 12 worker processes in total. Our suggested max number of worker in current system is 2, which is smaller than what this DataLoader is going to create. Please be aware that excessive worker creation might get DataLoader running slow or even freeze, lower the worker number to avoid potential slowness/freeze if necessary.\n",
            "  warnings.warn(_create_warning_msg(\n"
          ]
        },
        {
          "output_type": "stream",
          "name": "stdout",
          "text": [
            "Accuracy on test set: 70.47308349609375%\n",
            "F1 score on test set: 0.7029538115505637\n",
            "Log Loss on test set: 0.6178125593513062\n"
          ]
        },
        {
          "output_type": "display_data",
          "data": {
            "text/plain": [
              "<Figure size 640x480 with 2 Axes>"
            ],
            "image/png": "[encoded data removed]"
          },
          "metadata": {}
        },
        {
          "output_type": "execute_result",
          "data": {
            "text/plain": [
              "(array([[103,  17,  19],\n",
              "        [101, 151,  33],\n",
              "        [  8,   3, 178]]),\n",
              " tensor(70.4731),\n",
              " 0.7029538115505637,\n",
              " 0.6178125593513062)"
            ]
          },
          "metadata": {},
          "execution_count": 60
        }
      ]
    },
    {
      "cell_type": "code",
      "source": [
        "model_2 = CNN()\n",
        "sgd_opt_v4 = torch.optim.SGD(model_2.parameters(), lr = 0.2, momentum=0.2)\n",
        "sgd_model = train(model_2, sgd_opt_v4,train_loader, epochs = 10)"
      ],
      "metadata": {
        "colab": {
          "base_uri": "https://localhost:8080/"
        },
        "id": "bgeVq0MsIpfF",
        "outputId": "a6dd6560-7e53-415b-f038-ef14da14555c"
      },
      "execution_count": null,
      "outputs": [
        {
          "output_type": "stream",
          "name": "stderr",
          "text": [
            "/usr/local/lib/python3.10/dist-packages/torch/utils/data/dataloader.py:557: UserWarning: This DataLoader will create 12 worker processes in total. Our suggested max number of worker in current system is 2, which is smaller than what this DataLoader is going to create. Please be aware that excessive worker creation might get DataLoader running slow or even freeze, lower the worker number to avoid potential slowness/freeze if necessary.\n",
            "  warnings.warn(_create_warning_msg(\n"
          ]
        },
        {
          "output_type": "stream",
          "name": "stdout",
          "text": [
            "Epoch [1/10] Loss: 1.0375674962997437\n",
            "Epoch [2/10] Loss: 0.8157045245170593\n",
            "Epoch [3/10] Loss: 1.0679376125335693\n",
            "Epoch [4/10] Loss: 0.9655237793922424\n",
            "Epoch [5/10] Loss: 0.7392976880073547\n",
            "Epoch [6/10] Loss: 0.4728284180164337\n",
            "Epoch [7/10] Loss: 0.4997718632221222\n",
            "Epoch [8/10] Loss: 1.3044519424438477\n",
            "Epoch [9/10] Loss: 0.6744673252105713\n",
            "Epoch [10/10] Loss: 0.41652193665504456\n",
            "Accuracy on train set: 62.86821705426357%\n",
            "training time: 20.039482382933297 minutes\n"
          ]
        }
      ]
    },
    {
      "cell_type": "code",
      "source": [
        "test(sgd_model, test_loader, model_name = model_names[2]+'V4', display = True)"
      ],
      "metadata": {
        "colab": {
          "base_uri": "https://localhost:8080/",
          "height": 683
        },
        "id": "PeCZYesUIxCx",
        "outputId": "35834e70-6ae4-4836-8adb-52e0be7b1d41"
      },
      "execution_count": null,
      "outputs": [
        {
          "output_type": "stream",
          "name": "stderr",
          "text": [
            "/usr/local/lib/python3.10/dist-packages/torch/utils/data/dataloader.py:557: UserWarning: This DataLoader will create 12 worker processes in total. Our suggested max number of worker in current system is 2, which is smaller than what this DataLoader is going to create. Please be aware that excessive worker creation might get DataLoader running slow or even freeze, lower the worker number to avoid potential slowness/freeze if necessary.\n",
            "  warnings.warn(_create_warning_msg(\n"
          ]
        },
        {
          "output_type": "stream",
          "name": "stdout",
          "text": [
            "Accuracy on test set: 76.01957702636719%\n",
            "F1 score on test set: 0.7323365208771433\n",
            "Log Loss on test set: 0.5087386743559571\n"
          ]
        },
        {
          "output_type": "display_data",
          "data": {
            "text/plain": [
              "<Figure size 640x480 with 2 Axes>"
            ],
            "image/png": "[encoded data removed]"
          },
          "metadata": {}
        },
        {
          "output_type": "execute_result",
          "data": {
            "text/plain": [
              "(array([[ 40,  88,  11],\n",
              "        [ 11, 249,  25],\n",
              "        [  2,  10, 177]]),\n",
              " tensor(76.0196),\n",
              " 0.7323365208771433,\n",
              " 0.5087386743559571)"
            ]
          },
          "metadata": {},
          "execution_count": 67
        }
      ]
    },
    {
      "cell_type": "code",
      "source": [
        "model_2 = CNN()\n",
        "sgd_opt_v4 = torch.optim.SGD(model_2.parameters(), lr = 0.5)\n",
        "sgd_model = train(model_2, sgd_opt_v4,train_loader, epochs = 10)"
      ],
      "metadata": {
        "colab": {
          "base_uri": "https://localhost:8080/"
        },
        "id": "UHqdoBizsiT9",
        "outputId": "35a82273-6202-4fe6-febb-04d5ce2f2961"
      },
      "execution_count": null,
      "outputs": [
        {
          "output_type": "stream",
          "name": "stderr",
          "text": [
            "/usr/local/lib/python3.10/dist-packages/torch/utils/data/dataloader.py:557: UserWarning: This DataLoader will create 12 worker processes in total. Our suggested max number of worker in current system is 2, which is smaller than what this DataLoader is going to create. Please be aware that excessive worker creation might get DataLoader running slow or even freeze, lower the worker number to avoid potential slowness/freeze if necessary.\n",
            "  warnings.warn(_create_warning_msg(\n"
          ]
        },
        {
          "output_type": "stream",
          "name": "stdout",
          "text": [
            "Epoch [1/10] Loss: 0.9921280741691589\n",
            "Epoch [2/10] Loss: 1.1140388250350952\n",
            "Epoch [3/10] Loss: 0.8564680218696594\n",
            "Epoch [4/10] Loss: 0.8648643493652344\n",
            "Epoch [5/10] Loss: 1.1353496313095093\n",
            "Epoch [6/10] Loss: 0.903059184551239\n",
            "Epoch [7/10] Loss: 0.861031174659729\n",
            "Epoch [8/10] Loss: 0.7660484313964844\n",
            "Epoch [9/10] Loss: 0.4265209436416626\n",
            "Epoch [10/10] Loss: 0.5472256541252136\n",
            "Accuracy on train set: 61.958384332925334%\n",
            "training time: 20.861912790934245 minutes\n"
          ]
        }
      ]
    },
    {
      "cell_type": "code",
      "source": [
        "test(sgd_model, test_loader, model_name = model_names[2]+'V5', display = True)"
      ],
      "metadata": {
        "colab": {
          "base_uri": "https://localhost:8080/",
          "height": 628
        },
        "id": "XW1KMl2gslgi",
        "outputId": "fb523a3e-50f0-4e28-9f3a-449f7ccea64e"
      },
      "execution_count": null,
      "outputs": [
        {
          "output_type": "stream",
          "name": "stdout",
          "text": [
            "Accuracy on test set: 74.55138397216797%\n",
            "F1 score on test set: 0.753022120248434\n",
            "Log Loss on test set: 0.6037095349158884\n"
          ]
        },
        {
          "output_type": "display_data",
          "data": {
            "text/plain": [
              "<Figure size 640x480 with 2 Axes>"
            ],
            "image/png": "[encoded data removed]"
          },
          "metadata": {}
        },
        {
          "output_type": "execute_result",
          "data": {
            "text/plain": [
              "(array([[ 98,  33,   8],\n",
              "        [ 72, 204,   9],\n",
              "        [ 17,  17, 155]]),\n",
              " tensor(74.5514),\n",
              " 0.753022120248434,\n",
              " 0.6037095349158884)"
            ]
          },
          "metadata": {},
          "execution_count": 25
        }
      ]
    },
    {
      "cell_type": "code",
      "source": [
        "model = CNN()\n",
        "adam_opt = torch.optim.Adam(model.parameters())\n",
        "adam_model = train(model, adam_opt,train_loader, epochs = 10)"
      ],
      "metadata": {
        "colab": {
          "base_uri": "https://localhost:8080/"
        },
        "id": "o9KUcI7CEjDN",
        "outputId": "10f6ced0-b60e-44ac-ffd0-e05a4b127910"
      },
      "execution_count": null,
      "outputs": [
        {
          "output_type": "stream",
          "name": "stdout",
          "text": [
            "Epoch [1/10] Loss: 0.6970630884170532\n",
            "Epoch [2/10] Loss: 0.6106553077697754\n",
            "Epoch [3/10] Loss: 0.4726771414279938\n",
            "Epoch [4/10] Loss: 0.25800299644470215\n",
            "Epoch [5/10] Loss: 0.3886115252971649\n",
            "Epoch [6/10] Loss: 0.6536809802055359\n",
            "Epoch [7/10] Loss: 0.33736348152160645\n",
            "Epoch [8/10] Loss: 0.3753603398799896\n",
            "Epoch [9/10] Loss: 0.2247539758682251\n",
            "Epoch [10/10] Loss: 0.3751855790615082\n",
            "Accuracy on train set: 77.06650346797225%\n",
            "training time: 19.001130815347036 minutes\n"
          ]
        }
      ]
    },
    {
      "cell_type": "code",
      "source": [
        "model_2 = CNN()\n",
        "sgd_opt_v4 = torch.optim.SGD(model_2.parameters(), lr = 0.1, momentum=0.9)\n",
        "sgd_model = train(model_2, sgd_opt_v4,train_loader, epochs = 10)"
      ],
      "metadata": {
        "colab": {
          "base_uri": "https://localhost:8080/"
        },
        "id": "F0MjWoohVmp_",
        "outputId": "0c9c519f-193b-4b66-bf15-040890eca87d"
      },
      "execution_count": null,
      "outputs": [
        {
          "output_type": "stream",
          "name": "stdout",
          "text": [
            "Epoch [1/10] Loss: 1.0792896747589111\n",
            "Epoch [2/10] Loss: 0.9025675058364868\n",
            "Epoch [3/10] Loss: 1.088984489440918\n",
            "Epoch [4/10] Loss: 1.2052268981933594\n",
            "Epoch [5/10] Loss: 0.9649989604949951\n",
            "Epoch [6/10] Loss: 1.0812915563583374\n",
            "Epoch [7/10] Loss: 1.110072135925293\n",
            "Epoch [8/10] Loss: 1.0170639753341675\n",
            "Epoch [9/10] Loss: 0.9743034839630127\n",
            "Epoch [10/10] Loss: 0.9387218952178955\n",
            "Accuracy on train set: 47.5234598123215%\n",
            "training time: 22.30177592833837 minutes\n"
          ]
        }
      ]
    },
    {
      "cell_type": "code",
      "source": [
        "test(sgd_model, test_loader, model_name = model_names[2], display = True)"
      ],
      "metadata": {
        "colab": {
          "base_uri": "https://localhost:8080/",
          "height": 628
        },
        "id": "aKWRzRnYVo7K",
        "outputId": "80d8c512-0305-4b98-ab80-8f909d0219ca"
      },
      "execution_count": null,
      "outputs": [
        {
          "output_type": "stream",
          "name": "stdout",
          "text": [
            "Accuracy on test set: 46.49266052246094%\n",
            "F1 score on test set: 0.29510930579827566\n",
            "Log Loss on test set: 1.056759641937243\n"
          ]
        },
        {
          "output_type": "display_data",
          "data": {
            "text/plain": [
              "<Figure size 640x480 with 2 Axes>"
            ],
            "image/png": "[encoded data removed]"
          },
          "metadata": {}
        },
        {
          "output_type": "execute_result",
          "data": {
            "text/plain": [
              "(array([[  0, 139,   0],\n",
              "        [  0, 285,   0],\n",
              "        [  0, 189,   0]]),\n",
              " tensor(46.4927),\n",
              " 0.29510930579827566,\n",
              " 1.056759641937243)"
            ]
          },
          "metadata": {},
          "execution_count": 25
        }
      ]
    },
    {
      "cell_type": "code",
      "source": [
        "model_3 =CNN()\n",
        "rmsprop_opt_v4 = torch.optim.RMSprop(model_3.parameters(), lr = .001, momentum=0.7)\n",
        "train(model_3, rmsprop_opt_v4,train_loader, epochs = 10)"
      ],
      "metadata": {
        "colab": {
          "base_uri": "https://localhost:8080/"
        },
        "id": "XWLDnt6lRBd5",
        "outputId": "a8558526-3ebc-43ba-fe1d-bd7ee771d77e"
      },
      "execution_count": null,
      "outputs": [
        {
          "output_type": "stream",
          "name": "stderr",
          "text": [
            "/usr/local/lib/python3.10/dist-packages/torch/utils/data/dataloader.py:557: UserWarning: This DataLoader will create 12 worker processes in total. Our suggested max number of worker in current system is 2, which is smaller than what this DataLoader is going to create. Please be aware that excessive worker creation might get DataLoader running slow or even freeze, lower the worker number to avoid potential slowness/freeze if necessary.\n",
            "  warnings.warn(_create_warning_msg(\n"
          ]
        },
        {
          "output_type": "stream",
          "name": "stdout",
          "text": [
            "Epoch [1/10] Loss: 1.1686347723007202\n",
            "Epoch [2/10] Loss: 0.5947235822677612\n",
            "Epoch [3/10] Loss: 0.6384275555610657\n",
            "Epoch [4/10] Loss: 0.6091074347496033\n",
            "Epoch [5/10] Loss: 0.3487387001514435\n",
            "Epoch [6/10] Loss: 0.7339694499969482\n",
            "Epoch [7/10] Loss: 0.5582610964775085\n",
            "Epoch [8/10] Loss: 0.5243992209434509\n",
            "Epoch [9/10] Loss: 0.30073297023773193\n",
            "Epoch [10/10] Loss: 0.2998429238796234\n",
            "Accuracy on train set: 76.6217870257038%\n",
            "training time: 22.923621825377147 minutes\n"
          ]
        },
        {
          "output_type": "execute_result",
          "data": {
            "text/plain": [
              "CNN(\n",
              "  (conv1): Conv2d(3, 6, kernel_size=(9, 9), stride=(1, 1), padding=same)\n",
              "  (pool): MaxPool2d(kernel_size=8, stride=8, padding=0, dilation=1, ceil_mode=False)\n",
              "  (conv2): Conv2d(6, 16, kernel_size=(5, 5), stride=(1, 1))\n",
              "  (fc1): Linear(in_features=144, out_features=120, bias=True)\n",
              "  (fc2): Linear(in_features=120, out_features=84, bias=True)\n",
              "  (fc3): Linear(in_features=84, out_features=3, bias=True)\n",
              ")"
            ]
          },
          "metadata": {},
          "execution_count": 26
        }
      ]
    },
    {
      "cell_type": "code",
      "source": [
        "test(model_3, test_loader, model_name = 'RMSprop_Model', display = True)"
      ],
      "metadata": {
        "colab": {
          "base_uri": "https://localhost:8080/",
          "height": 628
        },
        "id": "iJLJdMdERPU2",
        "outputId": "2bd79c19-7f60-43e0-98a2-32e060101db5"
      },
      "execution_count": null,
      "outputs": [
        {
          "output_type": "stream",
          "name": "stdout",
          "text": [
            "Accuracy on test set: 85.15497589111328%\n",
            "F1 score on test set: 0.852007400544723\n",
            "Log Loss on test set: 0.37726196736369744\n"
          ]
        },
        {
          "output_type": "display_data",
          "data": {
            "text/plain": [
              "<Figure size 640x480 with 2 Axes>"
            ],
            "image/png": "[encoded data removed]"
          },
          "metadata": {}
        },
        {
          "output_type": "execute_result",
          "data": {
            "text/plain": [
              "(array([[101,  30,   8],\n",
              "        [ 32, 249,   4],\n",
              "        [  8,   9, 172]]),\n",
              " tensor(85.1550),\n",
              " 0.852007400544723,\n",
              " 0.37726196736369744)"
            ]
          },
          "metadata": {},
          "execution_count": 28
        }
      ]
    },
    {
      "cell_type": "markdown",
      "source": [],
      "metadata": {
        "id": "uGB1b4XG3FeO"
      }
    }
  ],
  "metadata": {
    "colab": {
      "provenance": []
    },
    "kernelspec": {
      "display_name": "Python 3",
      "name": "python3"
    },
    "language_info": {
      "name": "python"
    }
  },
  "nbformat": 4,
  "nbformat_minor": 0
}