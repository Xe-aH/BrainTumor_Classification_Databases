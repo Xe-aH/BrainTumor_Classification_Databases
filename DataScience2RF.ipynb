{
  "nbformat": 4,
  "nbformat_minor": 0,
  "metadata": {
    "colab": {
      "provenance": []
    },
    "kernelspec": {
      "name": "python3",
      "display_name": "Python 3"
    },
    "language_info": {
      "name": "python"
    }
  },
  "cells": [
    {
      "cell_type": "code",
      "execution_count": 2,
      "metadata": {
        "id": "laiJRsXRAk2t"
      },
      "outputs": [],
      "source": [
        "import torch\n",
        "import torchvision\n",
        "from torchvision import transforms, datasets\n",
        "import os\n",
        "import matplotlib.pyplot as plt\n",
        "import torch.optim as optim"
      ]
    },
    {
      "cell_type": "code",
      "source": [
        "from google.colab import drive\n",
        "drive.mount('/content/drive')"
      ],
      "metadata": {
        "colab": {
          "base_uri": "https://localhost:8080/"
        },
        "id": "45VoenRGKk9l",
        "outputId": "bba176d5-1d19-4d7f-f258-fae22d2673c7"
      },
      "execution_count": 6,
      "outputs": [
        {
          "output_type": "stream",
          "name": "stdout",
          "text": [
            "Mounted at /content/drive\n"
          ]
        }
      ]
    },
    {
      "cell_type": "code",
      "source": [
        "import zipfile\n",
        "\n",
        "# Define the path to the zip file and the destination folder\n",
        "zip_file_path = '/content/drive/My Drive/braindata/1512427.zip'\n",
        "destination_folder = '/content/drive/My Drive/braindata/'\n",
        "\n",
        "# Unzip the zip file\n",
        "with zipfile.ZipFile(zip_file_path, 'r') as zip_ref:\n",
        "    zip_ref.extractall(destination_folder)\n"
      ],
      "metadata": {
        "id": "vzr2HXVSJX19"
      },
      "execution_count": 8,
      "outputs": []
    },
    {
      "cell_type": "code",
      "source": [
        "import zipfile\n",
        "\n",
        "# Define the paths to the zip files and destination folders for each subset\n",
        "subsets = [\n",
        "    ('/content/drive/My Drive/braindata/brainTumorDataPublic_1-766.zip', '/content/drive/My Drive/braindata/'),\n",
        "    ('/content/drive/My Drive/braindata/brainTumorDataPublic_767-1532.zip', '/content/drive/My Drive/braindata/'),\n",
        "    ('/content/drive/My Drive/braindata/brainTumorDataPublic_1533-2298.zip', '/content/drive/My Drive/braindata/'),\n",
        "    ('/content/drive/My Drive/braindata/brainTumorDataPublic_2299-3064.zip', '/content/drive/My Drive/braindata/')\n",
        "]\n",
        "\n",
        "# Unzip each data subset\n",
        "for zip_file, destination_folder in subsets:\n",
        "    with zipfile.ZipFile(zip_file, 'r') as zip_ref:\n",
        "        zip_ref.extractall(destination_folder)\n"
      ],
      "metadata": {
        "id": "4TZ3H6ngLL3Y"
      },
      "execution_count": 9,
      "outputs": []
    },
    {
      "cell_type": "code",
      "source": [
        "!pip install h5py\n",
        "\n"
      ],
      "metadata": {
        "colab": {
          "base_uri": "https://localhost:8080/"
        },
        "id": "pX13f_agN3xt",
        "outputId": "ce9d35b3-a131-47a8-a4fb-349470424e77"
      },
      "execution_count": 11,
      "outputs": [
        {
          "output_type": "stream",
          "name": "stdout",
          "text": [
            "Requirement already satisfied: h5py in /usr/local/lib/python3.10/dist-packages (3.9.0)\n",
            "Requirement already satisfied: numpy>=1.17.3 in /usr/local/lib/python3.10/dist-packages (from h5py) (1.23.5)\n"
          ]
        }
      ]
    },
    {
      "cell_type": "code",
      "source": [
        "import h5py\n",
        "\n",
        "# Define the path to the cvind.mat file\n",
        "cvind_file_path = '/content/drive/My Drive/braindata/cvind.mat'\n",
        "\n",
        "# Load the cvind.mat file using h5py\n",
        "with h5py.File(cvind_file_path, 'r') as mat_file:\n",
        "    # Access the dataset within the file\n",
        "    dataset = mat_file['cvind']\n",
        "\n",
        "    # Retrieve the data as a NumPy array\n",
        "    data = dataset[()]\n",
        "\n",
        "    # Display the shape of the data (if it's a 1D array)\n",
        "    print(\"Data shape:\", data.shape)\n",
        "\n",
        "    # Access the data for further analysis or processing\n",
        "    print(\"Data:\", data)\n"
      ],
      "metadata": {
        "colab": {
          "base_uri": "https://localhost:8080/"
        },
        "id": "W3p35SpqOGuD",
        "outputId": "566f166a-7577-41eb-ff73-02310a94a519"
      },
      "execution_count": 16,
      "outputs": [
        {
          "output_type": "stream",
          "name": "stdout",
          "text": [
            "Data shape: (1, 3064)\n",
            "Data: [[5. 5. 5. ... 4. 2. 1.]]\n"
          ]
        }
      ]
    },
    {
      "cell_type": "code",
      "source": [
        "import h5py\n",
        "import numpy as np\n",
        "import cv2\n",
        "import torchvision.transforms as transforms\n",
        "from PIL import Image\n",
        "\n",
        "# Define the path to the directory containing the .mat files\n",
        "mat_files_dir = '/content/drive/My Drive/braindata/'\n",
        "\n",
        "# Initialize empty lists to store your feature data (X) and target labels (y)\n",
        "X = []\n",
        "y = []\n",
        "\n",
        "# Define the desired shape for the image data\n",
        "desired_shape = (255, 255)\n",
        "\n",
        "# Define the data transformation\n",
        "transform = transforms.Compose([\n",
        "    transforms.ToPILImage(),  # Convert the tensor to a PIL Image\n",
        "    transforms.Resize(desired_shape),  # Resize the image\n",
        "    transforms.Grayscale(num_output_channels=1),  # Convert the image to grayscale\n",
        "    transforms.ToTensor(),  # Convert the image to a tensor\n",
        "    transforms.Normalize((0.5,), (0.5,))  # Normalize pixel values for a single channel\n",
        "])\n",
        "\n",
        "# Iterate through the .mat files and load their contents\n",
        "for file_number in range(1, 3065):\n",
        "    file_path = f'{mat_files_dir}{file_number}.mat'\n",
        "\n",
        "    # Load data from the current .mat file using h5py\n",
        "    with h5py.File(file_path, 'r') as mat_file:\n",
        "        # Extract and append image data (features) and tumor type (labels) to the lists\n",
        "        # \"cjdata.image\" contains the image data, and \"cjdata.label\" contains the tumor type\n",
        "        image_data = mat_file['cjdata']['image'][()]  # Adjust the indexing as needed\n",
        "\n",
        "        # Convert the image data to a float tensor\n",
        "        image_data = torch.tensor(image_data, dtype=torch.float32)\n",
        "\n",
        "        # Apply the specified transformation\n",
        "        image_data = transform(image_data)\n",
        "\n",
        "        tumor_type = mat_file['cjdata']['label'][()][0, 0]  # Adjust the indexing as needed\n",
        "\n",
        "    # Append the transformed image data and tumor type to the respective lists\n",
        "    X.append(image_data)\n",
        "    y.append(tumor_type)\n",
        "\n",
        "# Convert the lists to NumPy arrays\n",
        "X = torch.stack(X)\n",
        "y = np.array(y)\n",
        "\n",
        "# Now, we have the transformed grayscale image data (X) and tumor type labels (y) loaded and ready for further processing.\n",
        "# The goal is to build a model that classifies brain tumor images into one of the three categories based on the transformed image data.\n"
      ],
      "metadata": {
        "id": "ukSUGjTnYvUi"
      },
      "execution_count": 27,
      "outputs": []
    },
    {
      "cell_type": "code",
      "source": [
        "from sklearn.model_selection import train_test_split\n",
        "\n",
        "# Split the data into training (80%) and testing (20%) sets\n",
        "X_train, X_test, y_train, y_test = train_test_split(X, y, test_size=0.2, random_state=100)\n",
        "\n",
        "# X_train and y_train will contain 80% of the data for training\n",
        "# X_test and y_test will contain 20% of the data for testing\n"
      ],
      "metadata": {
        "id": "6eM_sCysgdP8"
      },
      "execution_count": 28,
      "outputs": []
    },
    {
      "cell_type": "code",
      "source": [
        "# Flatten the 4D data to 2D\n",
        "X_train_flat = X_train.view(X_train.shape[0], -1)\n",
        "\n",
        "# Create a Random Forest classifier\n",
        "rf_classifier = RandomForestClassifier(n_estimators=100, max_depth=10, random_state=100)\n",
        "\n",
        "# Train the classifier on the flattened training data\n",
        "rf_classifier.fit(X_train_flat, y_train)\n",
        "\n",
        "# Reshape the test data in the same way\n",
        "X_test_flat = X_test.view(X_test.shape[0], -1)\n",
        "\n",
        "# Make predictions on the test data\n",
        "y_pred = rf_classifier.predict(X_test_flat)\n",
        "\n",
        "# Calculate accuracy\n",
        "accuracy = accuracy_score(y_test, y_pred)\n",
        "print(\"Accuracy:\", accuracy)\n"
      ],
      "metadata": {
        "colab": {
          "base_uri": "https://localhost:8080/"
        },
        "id": "sQ9uYpvEhF7R",
        "outputId": "37b72d93-7742-426c-dbb7-3ad5f8ffde5f"
      },
      "execution_count": 31,
      "outputs": [
        {
          "output_type": "stream",
          "name": "stdout",
          "text": [
            "Accuracy: 0.9363784665579119\n"
          ]
        }
      ]
    },
    {
      "cell_type": "code",
      "source": [
        "# Calculate the confusion matrix\n",
        "conf_matrix = confusion_matrix(y_test, y_pred)\n",
        "print(\"Confusion Matrix:\")\n",
        "print(conf_matrix)\n",
        "\n",
        "# Calculate the F1 score\n",
        "f1 = f1_score(y_test, y_pred, average='weighted')\n",
        "print(\"F1 Score:\", f1)\n",
        "\n",
        "# Calculate the log loss\n",
        "# Note: RandomForestClassifier doesn't directly provide probabilities, so you might need to use a different classifier for log loss calculation.\n",
        "# If you have probabilities, you can use log_loss(y_test, probabilities), where 'probabilities' are the predicted probabilities for each class.\n",
        "#Random Forest is an ensemble learning algorithm composed of decision trees that make binary decisions at each node,\n",
        "#resulting in discrete class predictions rather than continuous probabilities.\n",
        "# Log loss relies on continuous probability predictions to measure how confident a model is in its predictions, which is inherently at odds with the nature of Random Forest.\n",
        "#In essence, Random Forest doesn't produce the probability estimates necessary for log loss calculation.\n",
        "print(\"Log Loss: Not applicable for RandomForestClassifier\")\n"
      ],
      "metadata": {
        "colab": {
          "base_uri": "https://localhost:8080/"
        },
        "id": "iSDeDsaTjTMy",
        "outputId": "21c1028b-8b90-4880-d7e0-52a9afda963a"
      },
      "execution_count": 32,
      "outputs": [
        {
          "output_type": "stream",
          "name": "stdout",
          "text": [
            "Confusion Matrix:\n",
            "[[146   1   0]\n",
            " [ 32 235   3]\n",
            " [  0   3 193]]\n",
            "F1 Score: 0.9370085209854198\n",
            "Log Loss: Not applicable for RandomForestClassifier\n"
          ]
        }
      ]
    },
    {
      "cell_type": "code",
      "source": [
        "from sklearn.metrics import confusion_matrix\n",
        "import seaborn as sns\n",
        "import matplotlib.pyplot as plt\n",
        "\n",
        "# Assuming you already have 'y_test' (true labels) and 'y_pred' (predicted labels) defined\n",
        "\n",
        "# Calculate the confusion matrix\n",
        "cm = confusion_matrix(y_test, y_pred)\n",
        "\n",
        "# Create a heatmap of the confusion matrix\n",
        "plt.figure(figsize=(8, 6))\n",
        "sns.heatmap(cm, annot=True, fmt='d', cmap='Blues')\n",
        "plt.xlabel('Predicted')\n",
        "plt.ylabel('True')\n",
        "plt.title('Confusion Matrix')\n",
        "plt.show()\n"
      ],
      "metadata": {
        "colab": {
          "base_uri": "https://localhost:8080/",
          "height": 564
        },
        "id": "eJNgfQaCkE58",
        "outputId": "1ceaf095-a884-4679-8d18-56f475479f89"
      },
      "execution_count": 33,
      "outputs": [
        {
          "output_type": "display_data",
          "data": {
            "text/plain": [
              "<Figure size 800x600 with 2 Axes>"
            ],
            "image/png": "[encoded data removed]"
          },
          "metadata": {}
        }
      ]
    }
  ]
}